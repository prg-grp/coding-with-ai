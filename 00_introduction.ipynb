{
 "cells": [
  {
   "cell_type": "markdown",
   "metadata": {},
   "source": [
    "# 0 Introduction\n",
    "\n",
    "Refactoring is about performing a code transformation that improves software design without changing its behavior([Code Refactoring](https://en.wikipedia.org/wiki/Code_refactoring)). Classic examples of refactoring include renaming variables and functions, breaking down a long method into multiple ones, and synthetizing setters and getters for a class field.\n",
    "\n",
    "Refactoring can be done manually or automatically (many IDEs provide support for automated refactoring, e.g., [here](https://en.wikipedia.org/wiki/Code_refactoring)). Automatic methods are analytical, correct by design, and based on static analysis. Yet AI can support refactoring -- even if with less correctness guarantees.\n"
   ]
  },
  {
   "cell_type": "markdown",
   "metadata": {},
   "source": [
    "## 7.1 Task: Variable Renaming\n",
    "\n",
    "Refactor the following code to rename the variable ''numbers''\n"
   ]
  },
  {
   "cell_type": "code",
   "execution_count": null,
   "metadata": {
    "vscode": {
     "languageId": "python"
    }
   },
   "outputs": [
    {
     "ename": "ERROR",
     "evalue": "Error in parse(text = input): <text>:2:11: Unerwartete(s) '['\n1: # Initialize a list of numbers\n2: numbers = [\n             ^\n",
     "output_type": "error",
     "traceback": [
      "Error in parse(text = input): <text>:2:11: Unerwartete(s) '['\n1: # Initialize a list of numbers\n2: numbers = [\n             ^\nTraceback:\n"
     ]
    }
   ],
   "source": [
    "# Initialize a list of numbers\n",
    "numbers = [1, 2, 3, 4, 5]\n",
    "\n",
    "# Outer loop: iterates 5 times\n",
    "for i in range(5):\n",
    "    print(f\"Iteration {i+1} of the outer loop:\")\n",
    "    \n",
    "    # Inner loop: iterates over the list 'numbers'\n",
    "    for number in numbers:\n",
    "        print(f\"Number from the list: {number}\")\n",
    "\n",
    "    print(\"-\" * 20)\n"
   ]
  },
  {
   "cell_type": "markdown",
   "metadata": {},
   "source": [
    "## 7.2 Variable Renaming\n",
    "\n",
    "Create a Python program where the scoping of a variable is complex enough that the correct refactoring (renaming) with AI fails.\n"
   ]
  },
  {
   "cell_type": "code",
   "execution_count": null,
   "metadata": {
    "vscode": {
     "languageId": "python"
    }
   },
   "outputs": [],
   "source": []
  }
 ],
 "metadata": {
  "colab": {
   "provenance": []
  },
  "kernelspec": {
   "display_name": "R",
   "language": "R",
   "name": "ir"
  },
  "language_info": {
   "codemirror_mode": "r",
   "file_extension": ".r",
   "mimetype": "text/x-r-source",
   "name": "R",
   "pygments_lexer": "r",
   "version": "4.4.1"
  }
 },
 "nbformat": 4,
 "nbformat_minor": 0
}
