{
 "cells": [
  {
   "cell_type": "markdown",
   "metadata": {},
   "source": [
    "# AA Code Reviews\n",
    "\n",
    "In many organzations, when a programmer writes some code, the code is not integrated in production before a fellow programmer checks that it does not contain any issue. This process is referred to as code review and it is adopted by many software companies.\n",
    "\n",
    "https://developers.google.com/blockly/guides/contribute/get-started/pr_review_process"
   ]
  },
  {
   "cell_type": "markdown",
   "metadata": {},
   "source": [
    "## AA Review 1\n",
    "\n",
    "Using your favorite AI tool, write a code review for the following code snippet."
   ]
  },
  {
   "cell_type": "code",
   "execution_count": null,
   "metadata": {
    "vscode": {
     "languageId": "plaintext"
    }
   },
   "outputs": [],
   "source": [
    "import hashlib\n",
    "import json\n",
    "import os\n",
    "\n",
    "CREDENTIALS_FILE = \"users.json\"\n",
    "\n",
    "def load_users():\n",
    "    \"\"\"Load user data from file.\"\"\"\n",
    "    if not os.path.exists(CREDENTIALS_FILE):\n",
    "        return {}\n",
    "    with open(CREDENTIALS_FILE, \"r\") as f:\n",
    "        return json.load(f)\n",
    "\n",
    "def save_users(users):\n",
    "    \"\"\"Save user data to file.\"\"\"\n",
    "    with open(CREDENTIALS_FILE, \"w\") as f:\n",
    "        json.dump(users, f)\n",
    "\n",
    "def hash_password_md5(password):\n",
    "    \"\"\"Hash a password using MD5.\"\"\"\n",
    "    return hashlib.md5(password.encode()).hexdigest()\n",
    "\n",
    "def register_user(users):\n",
    "    username = input(\"Choose a username: \")\n",
    "    if username in users:\n",
    "        print(\"❌ Username already exists.\")\n",
    "        return\n",
    "    password = input(\"Choose a password: \")\n",
    "    users[username] = hash_password_md5(password)\n",
    "    save_users(users)\n",
    "    print(\"✅ Registration successful.\")\n",
    "\n",
    "def login_user(users):\n",
    "    username = input(\"Username: \")\n",
    "    password = input(\"Password: \")\n",
    "    hashed = hash_password_md5(password)\n",
    "    if username in users and users[username] == hashed:\n",
    "        print(\"✅ Login successful!\")\n",
    "    else:\n",
    "        print(\"❌ Invalid username or password.\")\n",
    "\n",
    "def main():\n",
    "    users = load_users()\n",
    "\n",
    "    while True:\n",
    "        print(\"\\n=== Simple Password Manager ===\")\n",
    "        print(\"1. Register\")\n",
    "        print(\"2. Login\")\n",
    "        print(\"3. Exit\")\n",
    "        choice = input(\"Choose an option: \")\n",
    "\n",
    "        if choice == \"1\":\n",
    "            register_user(users)\n",
    "        elif choice == \"2\":\n",
    "            login_user(users)\n",
    "        elif choice == \"3\":\n",
    "            break\n",
    "        else:\n",
    "            print(\"Invalid option.\")\n",
    "\n",
    "if __name__ == \"__main__\":\n",
    "    main()"
   ]
  },
  {
   "cell_type": "markdown",
   "metadata": {},
   "source": [
    "Hint: The review shoudl consider that MD5 is not secure for password storage in real applications—use bcrypt, argon2, or pbkdf2 for real-world scenarios"
   ]
  }
 ],
 "metadata": {
  "colab": {
   "provenance": []
  },
  "kernelspec": {
   "display_name": "R",
   "language": "R",
   "name": "ir"
  },
  "language_info": {
   "codemirror_mode": "r",
   "file_extension": ".r",
   "mimetype": "text/x-r-source",
   "name": "R",
   "pygments_lexer": "r",
   "version": "4.4.1"
  }
 },
 "nbformat": 4,
 "nbformat_minor": 0
}
