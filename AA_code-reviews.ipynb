{
 "cells": [
  {
   "cell_type": "markdown",
   "metadata": {},
   "source": [
    "# AA Code Reviews\n",
    "\n",
    "In many organzations, when a programmer writes some code, the code is not integrated in production before a fellow programmer checks that it does not contain any issue. This process is referred to as code review and it is adopted by many software companies.\n",
    "\n",
    "https://developers.google.com/blockly/guides/contribute/get-started/pr_review_process"
   ]
  },
  {
   "cell_type": "markdown",
   "metadata": {},
   "source": [
    "## 1 Review of Hashing Code\n",
    "\n",
    "Using your favorite AI tool, write a code review for the following code snippet."
   ]
  },
  {
   "cell_type": "code",
   "execution_count": null,
   "metadata": {},
   "outputs": [],
   "source": [
    "import hashlib\n",
    "import json\n",
    "import os\n",
    "\n",
    "CREDENTIALS_FILE = \"users.json\"\n",
    "\n",
    "def load_users():\n",
    "    \"\"\"Load user data from file.\"\"\"\n",
    "    if not os.path.exists(CREDENTIALS_FILE):\n",
    "        return {}\n",
    "    with open(CREDENTIALS_FILE, \"r\") as f:\n",
    "        return json.load(f)\n",
    "\n",
    "def save_users(users):\n",
    "    \"\"\"Save user data to file.\"\"\"\n",
    "    with open(CREDENTIALS_FILE, \"w\") as f:\n",
    "        json.dump(users, f)\n",
    "\n",
    "def hash_password_md5(password):\n",
    "    \"\"\"Hash a password using MD5.\"\"\"\n",
    "    return hashlib.md5(password.encode()).hexdigest()\n",
    "\n",
    "def register_user(users):\n",
    "    username = input(\"Choose a username: \")\n",
    "    if username in users:\n",
    "        print(\"❌ Username already exists.\")\n",
    "        return\n",
    "    password = input(\"Choose a password: \")\n",
    "    users[username] = hash_password_md5(password)\n",
    "    save_users(users)\n",
    "    print(\"✅ Registration successful.\")\n",
    "\n",
    "def login_user(users):\n",
    "    username = input(\"Username: \")\n",
    "    password = input(\"Password: \")\n",
    "    hashed = hash_password_md5(password)\n",
    "    if username in users and users[username] == hashed:\n",
    "        print(\"✅ Login successful!\")\n",
    "    else:\n",
    "        print(\"❌ Invalid username or password.\")\n",
    "\n",
    "def main():\n",
    "    users = load_users()\n",
    "\n",
    "    while True:\n",
    "        print(\"\\n=== Simple Password Manager ===\")\n",
    "        print(\"1. Register\")\n",
    "        print(\"2. Login\")\n",
    "        print(\"3. Exit\")\n",
    "        choice = input(\"Choose an option: \")\n",
    "\n",
    "        if choice == \"1\":\n",
    "            register_user(users)\n",
    "        elif choice == \"2\":\n",
    "            login_user(users)\n",
    "        elif choice == \"3\":\n",
    "            break\n",
    "        else:\n",
    "            print(\"Invalid option.\")\n",
    "\n",
    "if __name__ == \"__main__\":\n",
    "    main()"
   ]
  },
  {
   "cell_type": "markdown",
   "metadata": {},
   "source": [
    "**Hint:** The review shoudl consider that MD5 is not secure for password storage in real applications—use bcrypt, argon2, or pbkdf2 for real-world scenarios"
   ]
  },
  {
   "cell_type": "markdown",
   "metadata": {},
   "source": [
    "## 2 Review of database accessc code\n",
    "\n",
    "Using your favorite AI tool, write a code review for the following code snippet."
   ]
  },
  {
   "cell_type": "code",
   "execution_count": null,
   "metadata": {},
   "outputs": [],
   "source": [
    "import sqlite3\n",
    "import os\n",
    "\n",
    "DB_FILE = \"example.db\"\n",
    "\n",
    "def setup_database():\n",
    "    \"\"\"Create a users table and insert a sample user.\"\"\"\n",
    "    if os.path.exists(DB_FILE):\n",
    "        os.remove(DB_FILE)\n",
    "\n",
    "    conn = sqlite3.connect(DB_FILE)\n",
    "    c = conn.cursor()\n",
    "    c.execute(\"CREATE TABLE users (username TEXT, password TEXT)\")\n",
    "    c.execute(\"INSERT INTO users VALUES ('admin', 'password123')\")\n",
    "    conn.commit()\n",
    "    conn.close()\n",
    "\n",
    "def vulnerable_login(username, password):\n",
    "    \"\"\"Login function vulnerable to SQL injection.\"\"\"\n",
    "    conn = sqlite3.connect(DB_FILE)\n",
    "    c = conn.cursor()\n",
    "    \n",
    "    # ⚠️ Vulnerable line: unsafely constructing SQL\n",
    "    query = f\"SELECT * FROM users WHERE username = '{username}' AND password = '{password}'\"\n",
    "    print(f\"Running query: {query}\")\n",
    "    \n",
    "    c.execute(query)\n",
    "    result = c.fetchone()\n",
    "    conn.close()\n",
    "\n",
    "    if result:\n",
    "        print(\"✅ Login successful!\")\n",
    "    else:\n",
    "        print(\"❌ Login failed.\")\n",
    "\n",
    "def main():\n",
    "    setup_database()\n",
    "\n",
    "    print(\"=== Insecure Login Demo ===\")\n",
    "    username = input(\"Username: \")\n",
    "    password = input(\"Password: \")\n",
    "\n",
    "    vulnerable_login(username, password)\n",
    "\n",
    "if __name__ == \"__main__\":\n",
    "    main()"
   ]
  },
  {
   "cell_type": "markdown",
   "metadata": {},
   "source": [
    "**Hint:** This code is intentionally insecure and should never be used in a real application. It’s strictly for teaching purposes to highlight the dangers of SQL injection."
   ]
  },
  {
   "cell_type": "markdown",
   "metadata": {},
   "source": [
    "## 3 Checklists for Code Reviews\n",
    "\n",
    "It is common practice to use checklists to ensure that all important aspects of the code are reviewed. For example, both ISO and IEEE provide checklists for code reviews [1] [2]. Ask the AI to write a code review (e.g., of one of the code snippets above) using Google's checklist for code reviews availanble at: https://google.github.io/eng-practices/review/reviewer/looking-for.html\n",
    "\n",
    "\n",
    "[1] IEEE Std 1028-2008: IEEE Standard for Software Reviews and Audits ￼ ￼.\n",
    "\n",
    "[2] ISO/IEC 20246:2017: Software and systems engineering – Work product reviews ￼ "
   ]
  },
  {
   "cell_type": "markdown",
   "metadata": {},
   "source": []
  },
  {
   "cell_type": "markdown",
   "metadata": {},
   "source": []
  }
 ],
 "metadata": {
  "colab": {
   "provenance": []
  },
  "kernelspec": {
   "display_name": "Python 3",
   "language": "python",
   "name": "python3"
  },
  "language_info": {
   "codemirror_mode": "r",
   "file_extension": ".r",
   "mimetype": "text/x-r-source",
   "name": "python",
   "pygments_lexer": "r",
   "version": "3.8.18"
  }
 },
 "nbformat": 4,
 "nbformat_minor": 0
}
