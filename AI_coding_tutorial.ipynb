{
  "cells": [
    {
      "cell_type": "markdown",
      "metadata": {
        "id": "Pe54ss5hxbE3"
      },
      "source": [
        "# Tutorial: AI for coding tasks\n",
        "\n",
        "Welcome! This tutorial will guide you through some of the most common uses of AI in software development. We encourage you to use the examples only as suggestions and to experiment with AI, stretching its capabilities with larger and more complex examples. Happy hacking!"
      ]
    },
    {
      "cell_type": "markdown",
      "metadata": {
        "id": "qIueoaqtyh7F"
      },
      "source": [
        "# Fixing Syntax Errors with AI\n",
        "To properly execute, computer programs should be syntactically correct. This means that they need to follow the conventions of the language. If you are curious, the full specification of the Python syntax is vailable here https://docs.python.org/3/reference/grammar.html\n",
        "\n",
        "For example, in Python, the assignment of a variable should be done using the equals operator '='."
      ]
    },
    {
      "cell_type": "code",
      "execution_count": null,
      "metadata": {
        "id": "8qWGl5UbwuAP",
        "vscode": {
          "languageId": "r"
        }
      },
      "outputs": [],
      "source": [
        "myVariable = 1"
      ]
    },
    {
      "cell_type": "markdown",
      "metadata": {
        "id": "QNa0VG8HzEXw"
      },
      "source": [
        "An attempt to use a different symbol for an assignment will result in an error.\n",
        "\n"
      ]
    },
    {
      "cell_type": "code",
      "execution_count": null,
      "metadata": {
        "id": "g5mWbGbpzQl3",
        "vscode": {
          "languageId": "r"
        }
      },
      "outputs": [],
      "source": [
        "# The arrow is not a valid symbol for assignment in Python\n",
        "myVariable <- 1"
      ]
    },
    {
      "cell_type": "markdown",
      "metadata": {
        "id": "8k9Q21xI0Cca"
      },
      "source": [
        "## Task: Fixing Syntax Errors\n",
        "\n",
        "The following Python program contains several syntactic errors. Can you fix them using AI?"
      ]
    },
    {
      "cell_type": "code",
      "execution_count": null,
      "metadata": {
        "id": "8C_7Er2A0Mky",
        "vscode": {
          "languageId": "r"
        }
      },
      "outputs": [],
      "source": [
        "# List of numbers\n",
        "numbers := [10, 20, 30, 40, 50]\n",
        "\n",
        "# Check if the list is not empty to avoid division by zero\n",
        "if numbers:\n",
        "    total_sum = sum(numbers)  # Sum of all numbers in the list\n",
        "    count = len{numbers}  # Count of numbers in the list\n",
        "    average = total_sum / count  # Compute the average\n",
        "else;\n",
        "    average = 0  # Handle the case of an empty list\n",
        "\n",
        "print(f\"The average of the list is: {average}\")"
      ]
    },
    {
      "cell_type": "markdown",
      "metadata": {
        "id": "Yh0mzfSlwj-E"
      },
      "source": [
        "## Task: Breaking the AI\n",
        "\n",
        "Consider the following (elementary) program. Before running it:\n",
        "\n",
        "- Ask the AI to check if it contains any syntactic error.\n",
        "\n",
        "- Introduce some syntactic errors (note, these are errors about the program keywords, operators, structure, etc, not errors about the correct behavior) and ask the AI to spot them.\n",
        "\n",
        "- Introduce more errors and check the ability of the AI to find them. How much do you need to change the program before the AI starts failing at detecting errors?\n",
        "\n"
      ]
    },
    {
      "cell_type": "code",
      "execution_count": null,
      "metadata": {
        "id": "TZiC0_1mwkcr",
        "vscode": {
          "languageId": "r"
        }
      },
      "outputs": [],
      "source": [
        "import random\n",
        "\n",
        "# Welcome message\n",
        "print(\"Welcome to the Number Guessing Game!\")\n",
        "\n",
        "# Set the range for the random number\n",
        "min_number = 1\n",
        "max_number = 100\n",
        "\n",
        "# Generate a random number between min_number and max_number\n",
        "secret_number = random.randint(min_number, max_number)\n",
        "\n",
        "# Explain the rules to the user\n",
        "print(f\"I am thinking of a number between {min_number} and {max_number}.\")\n",
        "print(\"Try to guess the number!\")\n",
        "\n",
        "# Initialize the number of attempts\n",
        "attempts = 0\n",
        "\n",
        "# Boolean to track if the game is over\n",
        "game_over = False\n",
        "\n",
        "# Main game loop\n",
        "while not game_over:\n",
        "    # Ask the user for their guess\n",
        "    guess = int(input(\"Enter your guess: \"))\n",
        "    attempts += 1  # Increment the attempt counter\n",
        "\n",
        "    # Check if the guess is too low\n",
        "    if guess < secret_number:\n",
        "        print(\"Too low! Try again.\")\n",
        "\n",
        "    # Check if the guess is too high\n",
        "    elif guess > secret_number:\n",
        "        print(\"Too high! Try again.\")\n",
        "\n",
        "    # Check if the guess is correct\n",
        "    else:\n",
        "        print(f\"Congratulations! You guessed the number in {attempts} attempts.\")\n",
        "        game_over = True  # End the game\n",
        "\n",
        "# End of game message\n",
        "print(\"Thank you for playing the Number Guessing Game!\")"
      ]
    },
    {
      "cell_type": "markdown",
      "metadata": {
        "id": "13EzWXKkx7AM"
      },
      "source": [
        "# Writing Algorithms with AI\n",
        "\n",
        "An algorithm is a finite sequence of well-defined instructions used to solve a problem. See, for example https://en.wikipedia.org/wiki/Algorithm.\n",
        "AI can be used to generate the programs that implement a certain algorithm."
      ]
    },
    {
      "cell_type": "markdown",
      "metadata": {
        "id": "QxAn2A--61GC"
      },
      "source": [
        "## Task: Giving Granular Steps\n",
        "\n",
        "To get the help of the AI, you can specify the steps that the algorithm should follow. For example:\n",
        "\n",
        "Using AI, implement an algorithm that:\n",
        "- Receives as input a list of numbers\n",
        "- Computes the sum of the numbers\n",
        "- Computes the size of the list\n",
        "- Divides the sum of the numbers by the size of the list\n",
        "- Prints the result"
      ]
    },
    {
      "cell_type": "code",
      "execution_count": null,
      "metadata": {
        "id": "XR2kx0Odxvos",
        "vscode": {
          "languageId": "r"
        }
      },
      "outputs": [],
      "source": [
        "# The algorithm goes here"
      ]
    },
    {
      "cell_type": "markdown",
      "metadata": {
        "id": "xVrnfqYE7yyV"
      },
      "source": [
        "## Task: Giving High-Level Specifications\n",
        "\n",
        "Instead of specifying the individual steps, one can provide the AI with a higher level specification of the algorithm.\n",
        "\n",
        "For example, 'Generate a program that computes the average of a list of numbers and prints the result'.\n",
        "\n",
        "- Try to generate the algorithm above using AI.\n",
        "\n",
        "- Compare this approach with the step-by-step approach. Note that the resulting program might not be broken down into steps and may be harder to understand.\n",
        "\n"
      ]
    },
    {
      "cell_type": "code",
      "execution_count": null,
      "metadata": {
        "id": "4A5vwkpI9OWz",
        "vscode": {
          "languageId": "r"
        }
      },
      "outputs": [],
      "source": [
        "# The algorithm goes here"
      ]
    },
    {
      "cell_type": "markdown",
      "metadata": {
        "id": "2j1sJkaM9SQN"
      },
      "source": [
        "## Task: Linear Regression\n",
        "\n",
        "Generate an algorithm to compute a linear regression (https://en.wikipedia.org/wiki/Linear_regression). You can also ask the AI to explain what linear regression is if you are not familiar with it or need a refresher.\n",
        "\n",
        "- First, generate a step-by-step algorithm.\n",
        "- Next, generate the whole algorithm from a high-level specification.\n",
        "\n",
        "Hint: ask the AI for the exact steps that are required in the algorithm (in natural language), then use those steps to obtain a step-by-step formulation of the algorithm in Python."
      ]
    },
    {
      "cell_type": "code",
      "execution_count": null,
      "metadata": {
        "id": "nhtZy8O8ImFn",
        "vscode": {
          "languageId": "r"
        }
      },
      "outputs": [],
      "source": [
        "# Linear regression step-by-step"
      ]
    },
    {
      "cell_type": "code",
      "execution_count": null,
      "metadata": {
        "id": "6kDI4h5OI8lQ",
        "vscode": {
          "languageId": "r"
        }
      },
      "outputs": [],
      "source": [
        "# Linear regression from a high-level specification"
      ]
    },
    {
      "cell_type": "markdown",
      "metadata": {
        "id": "ln48uZcDI3JU"
      },
      "source": [
        "## Task: Banking System\n",
        "\n",
        "Consider a program that implements the following specification:\n",
        "\n",
        "Create a simple text-based banking system. The system allows users to create an account, deposit money, withdraw money, and check their balance. It uses basic programming constructs such as variables, loops, conditionals, and input/output operations.\n",
        "\n",
        "Requirements:\n",
        "\n",
        "1. Account Creation:\n",
        "* Users can create an account by entering their name and an initial deposit amount.\n",
        "* The system should store the account balance and the account holder’s name.\n",
        "2. Deposit Money:\n",
        "* Users can deposit money into their account.\n",
        "* The account balance should be updated accordingly.\n",
        "3. Withdraw Money:\n",
        "* Users can withdraw money from their account.\n",
        "* The system should check if there is enough balance for the withdrawal. If not, an appropriate message should be displayed.\n",
        "4. Check Balance:\n",
        "* Users can check their current account balance.\n",
        "5. Exit:\n",
        "* Users can exit the program.\n",
        "6. Menu-Driven Interface:\n",
        "* The program should display a menu with options to create an account, deposit money, withdraw money, check balance, and exit.\n",
        "* The user should be able to select an option to perform an action.\n",
        "\n",
        "A possible implementation for this specification follows. You can spot that the program has a regular structure: Each number input provided by the user corresponds to a different functionality.\n",
        "\n",
        "- Try to generate the program incrementally, providing the AI one or more points in the specification and then asking the AI to add the order gradually. In between, make sure that you understand the (partial) implementation suggested by the AI.\n",
        "\n",
        "- Propose a new functionality in the specification and implement it on top of the existing ones using the AI."
      ]
    },
    {
      "cell_type": "code",
      "execution_count": null,
      "metadata": {
        "id": "Ghciu8vSypDE",
        "vscode": {
          "languageId": "r"
        }
      },
      "outputs": [],
      "source": [
        "# Initialize variables\n",
        "account_created = False\n",
        "account_holder_name = \"\"\n",
        "balance = 0.0\n",
        "\n",
        "# Main program loop\n",
        "while True:\n",
        "    # Display menu\n",
        "    print(\"\\nSimple Banking System\")\n",
        "    print(\"1. Create an Account\")\n",
        "    print(\"2. Deposit Money\")\n",
        "    print(\"3. Withdraw Money\")\n",
        "    print(\"4. Check Balance\")\n",
        "    print(\"5. Exit\")\n",
        "    choice = input(\"Choose an option: \")\n",
        "\n",
        "    if choice == '1':\n",
        "        if account_created:\n",
        "            print(\"Account already exists.\")\n",
        "        else:\n",
        "            account_holder_name = input(\"Enter your name: \")\n",
        "            initial_deposit = input(\"Enter the initial deposit amount: \")\n",
        "\n",
        "            # Input validation: Ensure the initial deposit is a valid number\n",
        "            if initial_deposit.replace('.', '', 1).isdigit() and float(initial_deposit) >= 0:\n",
        "                balance = float(initial_deposit)\n",
        "                account_created = True\n",
        "                print(f\"Account created successfully for {account_holder_name} with balance ${balance:.2f}\")\n",
        "            else:\n",
        "                print(\"Invalid deposit amount. Please enter a positive number.\")\n",
        "\n",
        "    elif choice == '2':\n",
        "        if not account_created:\n",
        "            print(\"No account found. Please create an account first.\")\n",
        "        else:\n",
        "            deposit_amount = input(\"Enter the amount to deposit: \")\n",
        "\n",
        "            # Input validation: Ensure the deposit amount is a valid number\n",
        "            if deposit_amount.replace('.', '', 1).isdigit() and float(deposit_amount) > 0:\n",
        "                balance += float(deposit_amount)\n",
        "                print(f\"${float(deposit_amount):.2f} deposited successfully. New balance: ${balance:.2f}\")\n",
        "            else:\n",
        "                print(\"Invalid deposit amount. Please enter a positive number.\")\n",
        "\n",
        "    elif choice == '3':\n",
        "        if not account_created:\n",
        "            print(\"No account found. Please create an account first.\")\n",
        "        else:\n",
        "            withdrawal_amount = input(\"Enter the amount to withdraw: \")\n",
        "\n",
        "            # Input validation: Ensure the withdrawal amount is a valid number\n",
        "            if withdrawal_amount.replace('.', '', 1).isdigit() and float(withdrawal_amount) > 0:\n",
        "                withdrawal_amount = float(withdrawal_amount)\n",
        "                if withdrawal_amount > balance:\n",
        "                    print(\"Insufficient funds. Withdrawal failed.\")\n",
        "                else:\n",
        "                    balance -= withdrawal_amount\n",
        "                    print(f\"${withdrawal_amount:.2f} withdrawn successfully. New balance: ${balance:.2f}\")\n",
        "            else:\n",
        "                print(\"Invalid withdrawal amount. Please enter a positive number.\")\n",
        "\n",
        "    elif choice == '4':\n",
        "        if not account_created:\n",
        "            print(\"No account found. Please create an account first.\")\n",
        "        else:\n",
        "            print(f\"Account holder: {account_holder_name}\")\n",
        "            print(f\"Current balance: ${balance:.2f}\")\n",
        "\n",
        "    elif choice == '5':\n",
        "        print(\"Exiting the banking system. Goodbye!\")\n",
        "        break\n",
        "\n",
        "    else:\n",
        "        print(\"Invalid choice. Please choose a valid option.\")"
      ]
    },
    {
      "cell_type": "markdown",
      "metadata": {
        "id": "tIZ_O4dCyD1D"
      },
      "source": [
        "# Explaining Code with AI\n",
        "\n",
        "AI can be used to explain a program helping beginners understand basic program functionalities and speeding up advanced programmers in code comprehension during maintenance tasks (https://en.wikipedia.org/wiki/Software_maintenance#Change_cycle)."
      ]
    },
    {
      "cell_type": "markdown",
      "metadata": {
        "id": "tRjvv-ffmXqU"
      },
      "source": [
        "## Task: Code Explanations\n",
        "\n",
        "Consider the exercises 1-5 here:\n",
        "https://sback.github.io/shsg-summerschool-2024/day-1/variables\n",
        "\n",
        "- Compare the solution that you provide with the one provided by the AI.\n",
        "\n",
        "- How does the prompt influence the size and the complexity of the explanation? For example, you can ask an explanation for an absolute beginner or you can ask an explanation for an experienced software engineer."
      ]
    },
    {
      "cell_type": "markdown",
      "metadata": {
        "id": "Wrw8YbqdOpU0"
      },
      "source": [
        "## Task: Improving Code Quality\n",
        "\n",
        "The following code snippet is an example of bad programming practice. The variables used in the code do not have meaningful names and there are no comments.\n",
        "\n",
        "- Use AI to understand what this code is doing.\n",
        "\n",
        "- Next, based on the explanation above, use AI to give the variables a more meaningful name and add comments that help other programmers understand the code."
      ]
    },
    {
      "cell_type": "code",
      "execution_count": null,
      "metadata": {
        "id": "yozWaz_2JDk3",
        "vscode": {
          "languageId": "r"
        }
      },
      "outputs": [],
      "source": [
        "x = 29\n",
        "\n",
        "y = True\n",
        "\n",
        "if x > 1:\n",
        "    for z in range(2, int(x ** 0.5) + 1):\n",
        "        if x % z == 0:\n",
        "            y = False\n",
        "else:\n",
        "    y = False\n",
        "\n",
        "if y:\n",
        "    print(f\"{x}: it is!\")\n",
        "else:\n",
        "    print(f\"{x}: no, it isn\\'t\")"
      ]
    },
    {
      "cell_type": "markdown",
      "metadata": {
        "id": "KPCXkO8APPeJ"
      },
      "source": []
    },
    {
      "cell_type": "code",
      "execution_count": null,
      "metadata": {
        "id": "OnuG_N9FPf8s",
        "vscode": {
          "languageId": "r"
        }
      },
      "outputs": [],
      "source": [
        "# Cleaned up version of the code here"
      ]
    },
    {
      "cell_type": "markdown",
      "metadata": {
        "id": "Oeu9is5R5iFN"
      },
      "source": [
        "## Task: Deciphering Code with AI\n",
        "\n",
        "Use the AI to understand the following code. This program uses boolean values in an arithmetic operation, which might be confusing because booleans are typically not used in this way.\n",
        "Warning: this is not a good programming style!"
      ]
    },
    {
      "cell_type": "code",
      "execution_count": null,
      "metadata": {
        "id": "lG4qiYKZ5mYQ",
        "vscode": {
          "languageId": "r"
        }
      },
      "outputs": [],
      "source": [
        "x = True\n",
        "y = False\n",
        "z = x - y\n",
        "\n",
        "print(z)"
      ]
    },
    {
      "cell_type": "markdown",
      "metadata": {
        "id": "quVH_FUb6JOn"
      },
      "source": [
        "## Task: Refactoring Code with AI\n",
        "\n",
        "This program uses chained assignment and chained comparison, both of which can be tricky to grasp at first. Warning: this is not a good programming style!\n",
        "\n",
        "- Use the AI to understand the following code.\n",
        "\n",
        "- Working with the AI, translate it to a version that is immediately comprehensible."
      ]
    },
    {
      "cell_type": "code",
      "execution_count": null,
      "metadata": {
        "id": "yACIEikX6VG0",
        "vscode": {
          "languageId": "r"
        }
      },
      "outputs": [],
      "source": [
        "a = b = c = 5\n",
        "\n",
        "if a == b == c:\n",
        "    print(\"All variables are equal.\")\n",
        "\n",
        "a = 6\n",
        "\n",
        "if a < b < c:\n",
        "    print(\"a is less than b and b is less than c.\")\n",
        "else:\n",
        "    print(\"The chain of comparisons is not true.\")"
      ]
    },
    {
      "cell_type": "markdown",
      "metadata": {
        "id": "UnlGprMxJEqD"
      },
      "source": [
        "# Commenting Code with AI\n",
        "\n",
        "AI can be used to add code comments and improve code comprehension."
      ]
    },
    {
      "cell_type": "markdown",
      "metadata": {
        "id": "Op_PdCNZL4dK"
      },
      "source": [
        "## Task: Explaining Code with AI\n",
        "\n",
        "The following program does not include any comment.\n",
        "\n",
        "- Use the AI to add comments at suitable points in the code.\n",
        "\n",
        "- Based on the comments, understand the logic of the program."
      ]
    },
    {
      "cell_type": "code",
      "execution_count": null,
      "metadata": {
        "id": "VhLphydhwmdl",
        "vscode": {
          "languageId": "r"
        }
      },
      "outputs": [],
      "source": [
        "string = \"madam\"\n",
        "normalized_string = string.lower()\n",
        "\n",
        "if normalized_string == normalized_string[::-1]:\n",
        "    print(f'\"{string}\" is a palindrome')\n",
        "else:\n",
        "    print(f'\"{string}\" is not a palindrome')"
      ]
    },
    {
      "cell_type": "markdown",
      "metadata": {
        "id": "_BUHQWvgTjCr"
      },
      "source": [
        "## Task: Finding the Right Balance\n",
        "\n",
        "Too few comments make a program hard to understand, but too many comments clutter the code and are unnecessary. Note that the Python features used in this code may be well beyond your current knowledge.\n",
        "\n",
        "- With the help of AI, add an increasing number of comments to the following program.\n",
        "\n",
        "- What is the right level of commenting?\n"
      ]
    },
    {
      "cell_type": "code",
      "execution_count": null,
      "metadata": {
        "id": "PvdrBskUW6nu",
        "vscode": {
          "languageId": "r"
        }
      },
      "outputs": [],
      "source": [
        "import json\n",
        "from datetime import datetime\n",
        "\n",
        "class Task:\n",
        "    def __init__(self, title, description, due_date):\n",
        "        self.title = title\n",
        "        self.description = description\n",
        "        self.due_date = due_date\n",
        "        self.completed = False\n",
        "\n",
        "    def mark_complete(self):\n",
        "        self.completed = True\n",
        "\n",
        "    def __repr__(self):\n",
        "        status = \"Completed\" if self.completed else \"Pending\"\n",
        "        return f\"Title: {self.title}\\nDescription: {self.description}\\nDue Date: {self.due_date}\\nStatus: {status}\\n\"\n",
        "\n",
        "class TaskManager:\n",
        "    def __init__(self):\n",
        "        self.tasks = []\n",
        "\n",
        "    def add_task(self, title, description, due_date):\n",
        "        task = Task(title, description, due_date)\n",
        "        self.tasks.append(task)\n",
        "\n",
        "    def remove_task(self, title):\n",
        "        self.tasks = [task for task in self.tasks if task.title != title]\n",
        "\n",
        "    def mark_task_complete(self, title):\n",
        "        for task in self.tasks:\n",
        "            if task.title == title:\n",
        "                task.mark_complete()\n",
        "\n",
        "    def display_tasks(self):\n",
        "        if not self.tasks:\n",
        "            print(\"No tasks available.\")\n",
        "        else:\n",
        "            for task in self.tasks:\n",
        "                print(task)\n",
        "\n",
        "    def save_tasks(self, filename):\n",
        "        with open(filename, 'w') as file:\n",
        "            json.dump([task.__dict__ for task in self.tasks], file)\n",
        "\n",
        "    def load_tasks(self, filename):\n",
        "        try:\n",
        "            with open(filename, 'r') as file:\n",
        "                tasks = json.load(file)\n",
        "                self.tasks = [Task(**task) for task in tasks]\n",
        "        except FileNotFoundError:\n",
        "            print(f\"No saved tasks found in {filename}.\")\n",
        "\n",
        "def main():\n",
        "    manager = TaskManager()\n",
        "    while True:\n",
        "        print(\"\\nTask Manager\")\n",
        "        print(\"1. Add Task\")\n",
        "        print(\"2. Remove Task\")\n",
        "        print(\"3. Mark Task Complete\")\n",
        "        print(\"4. Display Tasks\")\n",
        "        print(\"5. Save Tasks\")\n",
        "        print(\"6. Load Tasks\")\n",
        "        print(\"7. Exit\")\n",
        "        choice = input(\"Choose an option: \")\n",
        "\n",
        "        if choice == '1':\n",
        "            title = input(\"Enter the task title: \")\n",
        "            description = input(\"Enter the task description: \")\n",
        "            due_date = input(\"Enter the task due date (YYYY-MM-DD): \")\n",
        "            manager.add_task(title, description, due_date)\n",
        "        elif choice == '2':\n",
        "            title = input(\"Enter the title of the task to remove: \")\n",
        "            manager.remove_task(title)\n",
        "        elif choice == '3':\n",
        "            title = input(\"Enter the title of the task to mark complete: \")\n",
        "            manager.mark_task_complete(title)\n",
        "        elif choice == '4':\n",
        "            manager.display_tasks()\n",
        "        elif choice == '5':\n",
        "            filename = input(\"Enter the filename to save tasks: \")\n",
        "            manager.save_tasks(filename)\n",
        "        elif choice == '6':\n",
        "            filename = input(\"Enter the filename to load tasks: \")\n",
        "            manager.load_tasks(filename)\n",
        "        elif choice == '7':\n",
        "            print(\"Exiting Task Manager.\")\n",
        "            break\n",
        "        else:\n",
        "            print(\"Invalid choice. Please try again.\")\n",
        "\n",
        "if __name__ == \"__main__\":\n",
        "    main()"
      ]
    },
    {
      "cell_type": "code",
      "execution_count": null,
      "metadata": {
        "id": "g_IE-WrKW8o_",
        "vscode": {
          "languageId": "r"
        }
      },
      "outputs": [],
      "source": [
        "# Program with comments\n"
      ]
    },
    {
      "cell_type": "markdown",
      "metadata": {
        "id": "cpZqlMEc6ysl"
      },
      "source": [
        "## Task: Understanding Python Comments with AI\n",
        "\n",
        "By asking the AI, learn about the different types of comments that exist in Python.\n",
        "\n",
        "- Ask the AI to explain them to you and to provide examples for each type.\n",
        "\n",
        "Hint: there are three types of comments in Python:\n",
        "* Single-line Comments (#): Used for short explanations or notes about specific lines of code.\n",
        "* Multi-line Comments: Can be created using consecutive single-line comments or triple-quoted strings for larger blocks of text.\n",
        "* Docstrings (\"\"\" or '''): Used for documenting modules, functions, classes, and methods, providing a formal way to describe what the code does."
      ]
    },
    {
      "cell_type": "markdown",
      "metadata": {
        "id": "SKeRnxSqxwvs"
      },
      "source": [
        "# Bug Fixing and Code Reviews (Semantic Errors)\n",
        "\n",
        "Finding bugs and potential issues (e.g., security vulnerabilities) in a program is important in several stages of software development.\n",
        "\n",
        "During development, programmers may need to remove the bugs that they spot in their code. This activity is often called debugging.\n",
        "\n",
        "In many organzations, when a programmer writes some code, the code is not integrated in production before a fellow programmer checks that it does not contain any issue. This process is referred to as code review and it is adopted by many software companies.\n",
        "\n",
        "https://developers.google.com/blockly/guides/contribute/get-started/pr_review_process\n",
        "\n"
      ]
    },
    {
      "cell_type": "markdown",
      "metadata": {
        "id": "rufkf1qxmj94"
      },
      "source": [
        "## Task: Finding Hidden Bugs\n",
        "\n",
        "AI can help identify a bug in program code. Note that the code does not generate an error when executed and the result is correct. If you want to see an execution with a wrong result, change this line:\n",
        "\n",
        "`numbers = [3, 5, 2, 8, 1]`\n",
        "\n",
        "to, e.g., this line:\n",
        "\n",
        "`numbers = [10, 5, 2, 8, 1]`\n",
        "\n",
        "- Use AI to find the issue in this code without running it.\n",
        "\n",
        "- Using the AI, generate a correct version of the program.\n",
        "\n",
        "- Ask the AI to explain the bug."
      ]
    },
    {
      "cell_type": "code",
      "execution_count": null,
      "metadata": {
        "colab": {
          "base_uri": "https://localhost:8080/"
        },
        "id": "h-XGNhFGm4pb",
        "outputId": "1c42153d-ced3-48e2-9c11-9f867dfc7f1e",
        "vscode": {
          "languageId": "r"
        }
      },
      "outputs": [
        {
          "name": "stdout",
          "output_type": "stream",
          "text": [
            "The maximum number is: 8\n"
          ]
        }
      ],
      "source": [
        "def find_max_in_list(numbers):\n",
        "    # Initialize the maximum value with the first element\n",
        "    max_value = numbers[0]\n",
        "\n",
        "    # Iterate through the list to find the maximum value\n",
        "    for i in range(1, len(numbers)):  # Bug: This loop should run from index 0, not 1\n",
        "        if numbers[i] > max_value:\n",
        "            max_value = numbers[i]\n",
        "\n",
        "    return max_value\n",
        "\n",
        "# Example usage\n",
        "numbers = [3, 5, 2, 8, 1]\n",
        "max_number = find_max_in_list(numbers)\n",
        "print(f\"The maximum number is: {max_number}\")"
      ]
    },
    {
      "cell_type": "code",
      "execution_count": null,
      "metadata": {
        "id": "oeNiu75VstWX",
        "vscode": {
          "languageId": "r"
        }
      },
      "outputs": [],
      "source": [
        "# COMPLETE: Correct version of the code"
      ]
    },
    {
      "cell_type": "markdown",
      "metadata": {
        "id": "nT5Bilj8sw8p"
      },
      "source": [
        "Explanation of the bug:"
      ]
    },
    {
      "cell_type": "markdown",
      "metadata": {
        "id": "NUTpI4P3s-VP"
      },
      "source": [
        "## Task: Debugging with AI\n",
        "\n",
        "The following program contains a bug and fails with an error.\n",
        "\n",
        "- Provide only the error message to the AI and find the bug using the explanation given by the AI\n",
        "\n",
        "- Provide the AI with both the program and the error message and check if the explanation improves"
      ]
    },
    {
      "cell_type": "code",
      "execution_count": null,
      "metadata": {
        "id": "ZLGaf1kstWuE",
        "vscode": {
          "languageId": "r"
        }
      },
      "outputs": [],
      "source": [
        "def calculate_average(numbers):\n",
        "    # Attempt to calculate the average of a list of numbers\n",
        "    total = sum(numbers)\n",
        "    count = len(numbers)\n",
        "\n",
        "    # Bug: Division by zero error if the list is empty\n",
        "    average = total / count\n",
        "\n",
        "    return average\n",
        "\n",
        "# Example usage\n",
        "numbers = []\n",
        "average = calculate_average(numbers)\n",
        "print(f\"The average is: {average}\")"
      ]
    },
    {
      "cell_type": "markdown",
      "metadata": {
        "id": "iiIioJfdteaE"
      },
      "source": [
        "Error explanation:"
      ]
    },
    {
      "cell_type": "code",
      "execution_count": null,
      "metadata": {
        "id": "VmYho0ikti2E",
        "vscode": {
          "languageId": "r"
        }
      },
      "outputs": [],
      "source": [
        "# COMPLETE: correct version of the program"
      ]
    },
    {
      "cell_type": "markdown",
      "metadata": {},
      "source": [
        "# Language translation with AI\n",
        "AI can be used to translate a program written in a programming langauge to a possibly equivalent program in a different programming langauge. The problem is as old as complex because it has to do with program equivalence: the following is a research meeting that focuses on this issuse in 2018 - [AI-Assisted Syntax Error Debugging in Code](https://drops.dagstuhl.de/storage/04dagstuhl-reports/volume08/issue04/18151/DagRep.8.4.1/DagRep.8.4.1.pdf)."
      ]
    },
    {
      "cell_type": "markdown",
      "metadata": {},
      "source": [
        "## Task: Program Translation (basic)\n",
        "Use the AI to translate the following code snippet from R to Python. Check that the translated program is really equivalent to the original one."
      ]
    },
    {
      "cell_type": "code",
      "execution_count": null,
      "metadata": {
        "vscode": {
          "languageId": "r"
        }
      },
      "outputs": [],
      "source": [
        "# Simple R program to calculate the factorial of a number\n",
        "\n",
        "# Define the number\n",
        "number <- 5\n",
        "\n",
        "# Initialize the factorial result to 1\n",
        "factorial_result <- 1\n",
        "\n",
        "# Loop to calculate the factorial\n",
        "for(i in 1:number) {\n",
        "  factorial_result <- factorial_result * i\n",
        "}\n",
        "\n",
        "# Print the result\n",
        "cat(\"The factorial of\", number, \"is:\", factorial_result, \"\\n\")"
      ]
    },
    {
      "cell_type": "code",
      "execution_count": null,
      "metadata": {
        "vscode": {
          "languageId": "r"
        }
      },
      "outputs": [],
      "source": [
        "# Translation into Python goes here:"
      ]
    },
    {
      "cell_type": "markdown",
      "metadata": {},
      "source": [
        "## Task: Program Translation (intermediate)\n",
        "\n",
        "Different programming languages not only use different syntax, but also have features that are simply not available in other languages, complicating the translation problem. For example, R, which is a language for statistics, has a special value, NA, denoting a missing value. This reflecting the fact that in statistic is is common to deal with missing data point and the language supports the user in this aspect. \n",
        "\n",
        "An important element is this code snippe is the na.rm argument which instructs R to excludes NA values from the calculation and run the program only on available data points."
      ]
    },
    {
      "cell_type": "code",
      "execution_count": 2,
      "metadata": {
        "vscode": {
          "languageId": "r"
        }
      },
      "outputs": [
        {
          "name": "stdout",
          "output_type": "stream",
          "text": [
            "[1] 7.6\n"
          ]
        }
      ],
      "source": [
        "# This is R code\n",
        "\n",
        "# Creating a numeric vector\n",
        "values <- c(4, 7, 1, 16, NA, 10)\n",
        "\n",
        "# Calculating the mean while ignoring NA values\n",
        "average <- mean(values, na.rm = TRUE)\n",
        "print(average)"
      ]
    },
    {
      "cell_type": "markdown",
      "metadata": {},
      "source": [
        "## Task: Program Translation (advanced)\n",
        "\n",
        "Translate the following program to Python using the AI. In checking the result, pay particular attention to the translation\n",
        "1 - Constructs that belong to the R syntax (e.g., the <- operator)\n",
        "2 - Calls to libraries that are likely to be different between Python and R\n",
        "\n",
        "The program simulates a simple data analysis task without using external libraries. It generates synthetic data, computes descriptive statistics, performs a linear regression, and generates a plot."
      ]
    },
    {
      "cell_type": "code",
      "execution_count": null,
      "metadata": {
        "vscode": {
          "languageId": "r"
        }
      },
      "outputs": [],
      "source": [
        "# Comprehensive R program: Data Simulation, Descriptive Stats, Linear Regression, and Plotting\n",
        "\n",
        "# 1. Generate synthetic data\n",
        "set.seed(123) # For reproducibility\n",
        "\n",
        "# Generate 100 random values for x (independent variable)\n",
        "x <- runif(100, min = 1, max = 100)\n",
        "\n",
        "# Generate y (dependent variable) with a linear relationship with x, adding some noise\n",
        "y <- 2.5 * x + rnorm(100, mean = 0, sd = 10)\n",
        "\n",
        "# Create a data frame from the synthetic data\n",
        "data <- data.frame(x, y)\n",
        "\n",
        "# 2. Descriptive statistics\n",
        "cat(\"Summary of the independent variable (x):\\n\")\n",
        "cat(\"Min:\", min(x), \"\\n\")\n",
        "cat(\"Max:\", max(x), \"\\n\")\n",
        "cat(\"Mean:\", mean(x), \"\\n\")\n",
        "cat(\"Median:\", median(x), \"\\n\")\n",
        "cat(\"Standard Deviation:\", sd(x), \"\\n\\n\")\n",
        "\n",
        "cat(\"Summary of the dependent variable (y):\\n\")\n",
        "cat(\"Min:\", min(y), \"\\n\")\n",
        "cat(\"Max:\", max(y), \"\\n\")\n",
        "cat(\"Mean:\", mean(y), \"\\n\")\n",
        "cat(\"Median:\", median(y), \"\\n\")\n",
        "cat(\"Standard Deviation:\", sd(y), \"\\n\\n\")\n",
        "\n",
        "# 3. Linear Regression\n",
        "cat(\"Performing linear regression...\\n\")\n",
        "linear_model <- lm(y ~ x, data = data)\n",
        "\n",
        "# Output the summary of the linear model\n",
        "cat(\"Summary of the linear model:\\n\")\n",
        "print(summary(linear_model))\n",
        "\n",
        "# 4. Plotting\n",
        "cat(\"Generating a plot...\\n\")\n",
        "\n",
        "# Scatter plot of x vs. y\n",
        "plot(x, y, main = \"Linear Regression Plot\", xlab = \"Independent Variable (x)\", ylab = \"Dependent Variable (y)\", pch = 19)\n",
        "\n",
        "# Add the regression line to the plot\n",
        "abline(linear_model, col = \"blue\", lwd = 2)\n",
        "\n",
        "# 5. Residual Analysis\n",
        "residuals <- residuals(linear_model)\n",
        "\n",
        "cat(\"Performing residual analysis...\\n\")\n",
        "cat(\"Summary of residuals:\\n\")\n",
        "print(summary(residuals))\n",
        "\n",
        "# 6. Plot residuals\n",
        "cat(\"Generating residuals plot...\\n\")\n",
        "plot(x, residuals, main = \"Residuals Plot\", xlab = \"Independent Variable (x)\", ylab = \"Residuals\", pch = 19, col = \"red\")\n",
        "abline(h = 0, col = \"black\", lwd = 2)\n",
        "\n",
        "# End of program\n",
        "cat(\"Program completed.\\n\")"
      ]
    },
    {
      "cell_type": "code",
      "execution_count": null,
      "metadata": {
        "vscode": {
          "languageId": "r"
        }
      },
      "outputs": [],
      "source": [
        "# Translation into Python goes here:"
      ]
    },
    {
      "cell_type": "markdown",
      "metadata": {},
      "source": [
        "# Refactoring\n",
        "\n",
        "Refactoring is about performing a code transformation that improves software design without changing its behavior([Code Refactoring](https://en.wikipedia.org/wiki/Code_refactoring)). Classic examples of refactoring include renaming variables and functions, breaking down a long method into multiple ones, and synthetizing setters and getters for a class field.\n",
        "\n",
        "Refactoring can be done manually or automatically (many IDEs provide support for automated refactoring, e.g., [here](https://en.wikipedia.org/wiki/Code_refactoring)). Automatic methods are analytical, correct by design, and based on static analysis. Yet AI can support refactoring -- even if with less correctness guarantees."
      ]
    },
    {
      "cell_type": "markdown",
      "metadata": {},
      "source": [
        "## Task: Variable Renaming\n",
        "Refactor the following code to rename the variable ''numbers''"
      ]
    },
    {
      "cell_type": "code",
      "execution_count": 1,
      "metadata": {
        "vscode": {
          "languageId": "python"
        }
      },
      "outputs": [
        {
          "ename": "ERROR",
          "evalue": "Error in parse(text = input): <text>:2:11: Unerwartete(s) '['\n1: # Initialize a list of numbers\n2: numbers = [\n             ^\n",
          "output_type": "error",
          "traceback": [
            "Error in parse(text = input): <text>:2:11: Unerwartete(s) '['\n1: # Initialize a list of numbers\n2: numbers = [\n             ^\nTraceback:\n"
          ]
        }
      ],
      "source": [
        "# Initialize a list of numbers\n",
        "numbers = [1, 2, 3, 4, 5]\n",
        "\n",
        "# Outer loop: iterates 5 times\n",
        "for i in range(5):\n",
        "    print(f\"Iteration {i+1} of the outer loop:\")\n",
        "    \n",
        "    # Inner loop: iterates over the list 'numbers'\n",
        "    for number in numbers:\n",
        "        print(f\"Number from the list: {number}\")\n",
        "\n",
        "    print(\"-\" * 20)\n"
      ]
    },
    {
      "cell_type": "markdown",
      "metadata": {},
      "source": [
        "## Variable Renaming\n",
        "Create a Python program where the scoping of a variable is complex enough that the correct refactoring (renaming) with AI fails."
      ]
    },
    {
      "cell_type": "code",
      "execution_count": null,
      "metadata": {
        "vscode": {
          "languageId": "python"
        }
      },
      "outputs": [],
      "source": []
    }
  ],
  "metadata": {
    "colab": {
      "provenance": []
    },
    "kernelspec": {
      "display_name": "R",
      "language": "R",
      "name": "ir"
    },
    "language_info": {
      "codemirror_mode": "r",
      "file_extension": ".r",
      "mimetype": "text/x-r-source",
      "name": "R",
      "pygments_lexer": "r",
      "version": "4.4.1"
    }
  },
  "nbformat": 4,
  "nbformat_minor": 0
}
