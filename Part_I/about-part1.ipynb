{
 "cells": [
  {
   "cell_type": "markdown",
   "metadata": {},
   "source": [
    "# About Part I: Basic Coding with AI\n",
    "\n",
    "This part introduces the core idea behind the entire journey: using AI tools to support and enhance your programming practice.\n",
    "\n",
    "The exercises here focus on foundational coding tasks—things like writing algorithms, fixing errors, explaining code, and improving readability. These are the everyday building blocks of programming, and they offer a great starting point for learning how to collaborate with AI systems effectively.\n",
    "\n",
    "Each task is self-contained and designed to be approachable with only basic programming knowledge. You’ll explore how AI can help you debug syntax errors, generate code snippets, write meaningful comments, and even translate code between languages.\n",
    "\n",
    "The emphasis is not on getting everything “right” the first time, but on experimenting and developing a feel for what AI can do well—and where human judgment is still essential. Whether you’re new to coding or just new to using AI tools in your workflow, this part lays the groundwork for more advanced topics to come.\n",
    "\n",
    "Take your time, try things out, and don’t be afraid to ask the AI follow-up questions. The goal here is to build fluency, not perfection."
   ]
  }
 ],
 "metadata": {
  "colab": {
   "provenance": []
  },
  "kernelspec": {
   "display_name": "R",
   "language": "R",
   "name": "ir"
  },
  "language_info": {
   "codemirror_mode": "r",
   "file_extension": ".r",
   "mimetype": "text/x-r-source",
   "name": "R",
   "pygments_lexer": "r",
   "version": "4.4.1"
  }
 },
 "nbformat": 4,
 "nbformat_minor": 0
}
