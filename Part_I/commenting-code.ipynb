{
 "cells": [
  {
   "cell_type": "markdown",
   "metadata": {
    "id": "UnlGprMxJEqD"
   },
   "source": [
    "# 6 Commenting Code with AI\n",
    "\n",
    "AI can be used to add code comments and improve code comprehension.\n"
   ]
  },
  {
   "cell_type": "markdown",
   "metadata": {
    "id": "Op_PdCNZL4dK"
   },
   "source": [
    "## 6.1 Task: Explaining Code with AI\n",
    "\n",
    "The following program does not include any comment.\n",
    "\n",
    "- Use the AI to add comments at suitable points in the code.\n",
    "\n",
    "- Based on the comments, understand the logic of the program.\n"
   ]
  },
  {
   "cell_type": "code",
   "execution_count": null,
   "metadata": {
    "id": "VhLphydhwmdl",
    "vscode": {
     "languageId": "r"
    }
   },
   "outputs": [],
   "source": [
    "string = \"madam\"\n",
    "normalized_string = string.lower()\n",
    "\n",
    "if normalized_string == normalized_string[::-1]:\n",
    "    print(f'\"{string}\" is a palindrome')\n",
    "else:\n",
    "    print(f'\"{string}\" is not a palindrome')"
   ]
  },
  {
   "cell_type": "markdown",
   "metadata": {
    "id": "_BUHQWvgTjCr"
   },
   "source": [
    "## 6.2 Task: Finding the Right Balance\n",
    "\n",
    "Too few comments make a program hard to understand, but too many comments clutter the code and are unnecessary. Note that the Python features used in this code may be well beyond your current knowledge.\n",
    "\n",
    "- With the help of AI, add an increasing number of comments to the following program.\n",
    "\n",
    "- What is the right level of commenting?\n"
   ]
  },
  {
   "cell_type": "code",
   "execution_count": null,
   "metadata": {
    "id": "PvdrBskUW6nu",
    "vscode": {
     "languageId": "r"
    }
   },
   "outputs": [],
   "source": [
    "import json\n",
    "from datetime import datetime\n",
    "\n",
    "class Task:\n",
    "    def __init__(self, title, description, due_date):\n",
    "        self.title = title\n",
    "        self.description = description\n",
    "        self.due_date = due_date\n",
    "        self.completed = False\n",
    "\n",
    "    def mark_complete(self):\n",
    "        self.completed = True\n",
    "\n",
    "    def __repr__(self):\n",
    "        status = \"Completed\" if self.completed else \"Pending\"\n",
    "        return f\"Title: {self.title}\\nDescription: {self.description}\\nDue Date: {self.due_date}\\nStatus: {status}\\n\"\n",
    "\n",
    "class TaskManager:\n",
    "    def __init__(self):\n",
    "        self.tasks = []\n",
    "\n",
    "    def add_task(self, title, description, due_date):\n",
    "        task = Task(title, description, due_date)\n",
    "        self.tasks.append(task)\n",
    "\n",
    "    def remove_task(self, title):\n",
    "        self.tasks = [task for task in self.tasks if task.title != title]\n",
    "\n",
    "    def mark_task_complete(self, title):\n",
    "        for task in self.tasks:\n",
    "            if task.title == title:\n",
    "                task.mark_complete()\n",
    "\n",
    "    def display_tasks(self):\n",
    "        if not self.tasks:\n",
    "            print(\"No tasks available.\")\n",
    "        else:\n",
    "            for task in self.tasks:\n",
    "                print(task)\n",
    "\n",
    "    def save_tasks(self, filename):\n",
    "        with open(filename, 'w') as file:\n",
    "            json.dump([task.__dict__ for task in self.tasks], file)\n",
    "\n",
    "    def load_tasks(self, filename):\n",
    "        try:\n",
    "            with open(filename, 'r') as file:\n",
    "                tasks = json.load(file)\n",
    "                self.tasks = [Task(**task) for task in tasks]\n",
    "        except FileNotFoundError:\n",
    "            print(f\"No saved tasks found in {filename}.\")\n",
    "\n",
    "def main():\n",
    "    manager = TaskManager()\n",
    "    while True:\n",
    "        print(\"\\nTask Manager\")\n",
    "        print(\"1. Add Task\")\n",
    "        print(\"2. Remove Task\")\n",
    "        print(\"3. Mark Task Complete\")\n",
    "        print(\"4. Display Tasks\")\n",
    "        print(\"5. Save Tasks\")\n",
    "        print(\"6. Load Tasks\")\n",
    "        print(\"7. Exit\")\n",
    "        choice = input(\"Choose an option: \")\n",
    "\n",
    "        if choice == '1':\n",
    "            title = input(\"Enter the task title: \")\n",
    "            description = input(\"Enter the task description: \")\n",
    "            due_date = input(\"Enter the task due date (YYYY-MM-DD): \")\n",
    "            manager.add_task(title, description, due_date)\n",
    "        elif choice == '2':\n",
    "            title = input(\"Enter the title of the task to remove: \")\n",
    "            manager.remove_task(title)\n",
    "        elif choice == '3':\n",
    "            title = input(\"Enter the title of the task to mark complete: \")\n",
    "            manager.mark_task_complete(title)\n",
    "        elif choice == '4':\n",
    "            manager.display_tasks()\n",
    "        elif choice == '5':\n",
    "            filename = input(\"Enter the filename to save tasks: \")\n",
    "            manager.save_tasks(filename)\n",
    "        elif choice == '6':\n",
    "            filename = input(\"Enter the filename to load tasks: \")\n",
    "            manager.load_tasks(filename)\n",
    "        elif choice == '7':\n",
    "            print(\"Exiting Task Manager.\")\n",
    "            break\n",
    "        else:\n",
    "            print(\"Invalid choice. Please try again.\")\n",
    "\n",
    "if __name__ == \"__main__\":\n",
    "    main()"
   ]
  },
  {
   "cell_type": "code",
   "execution_count": null,
   "metadata": {
    "id": "g_IE-WrKW8o_",
    "vscode": {
     "languageId": "r"
    }
   },
   "outputs": [],
   "source": [
    "# Program with comments\n"
   ]
  },
  {
   "cell_type": "markdown",
   "metadata": {
    "id": "cpZqlMEc6ysl"
   },
   "source": [
    "## 6.3 Task: Understanding Python Comments with AI\n",
    "\n",
    "By asking the AI, learn about the different types of comments that exist in Python.\n",
    "\n",
    "- Ask the AI to explain them to you and to provide examples for each type.\n",
    "\n",
    "Hint: there are three types of comments in Python:\n",
    "\n",
    "* Single-line Comments (#): Used for short explanations or notes about specific lines of code.\n",
    "* Multi-line Comments: Can be created using consecutive single-line comments or triple-quoted strings for larger blocks of text.\n",
    "* Docstrings (\"\"\" or '''): Used for documenting modules, functions, classes, and methods, providing a formal way to describe what the code does.\n"
   ]
  }
 ],
 "metadata": {
  "colab": {
   "provenance": []
  },
  "kernelspec": {
   "display_name": "R",
   "language": "R",
   "name": "ir"
  },
  "language_info": {
   "codemirror_mode": "r",
   "file_extension": ".r",
   "mimetype": "text/x-r-source",
   "name": "R",
   "pygments_lexer": "r",
   "version": "4.4.1"
  }
 },
 "nbformat": 4,
 "nbformat_minor": 0
}
