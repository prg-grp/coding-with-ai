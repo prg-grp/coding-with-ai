{
 "cells": [
  {
   "cell_type": "markdown",
   "metadata": {
    "id": "qIueoaqtyh7F"
   },
   "source": [
    "# 3 Fixing Syntax Errors with AI\n",
    "\n",
    "To properly execute, computer programs should be syntactically correct. This means that they need to follow the conventions of the language. If you are curious, the full specification of the Python syntax is vailable here https://docs.python.org/3/reference/grammar.html\n",
    "\n",
    "For example, in Python, the assignment of a variable should be done using the equals operator '='.\n"
   ]
  },
  {
   "cell_type": "code",
   "execution_count": null,
   "metadata": {
    "id": "8qWGl5UbwuAP",
    "vscode": {
     "languageId": "r"
    }
   },
   "outputs": [],
   "source": [
    "myVariable = 1"
   ]
  },
  {
   "cell_type": "markdown",
   "metadata": {
    "id": "QNa0VG8HzEXw"
   },
   "source": [
    "An attempt to use a different symbol for an assignment will result in an error.\n"
   ]
  },
  {
   "cell_type": "code",
   "execution_count": null,
   "metadata": {
    "id": "g5mWbGbpzQl3",
    "vscode": {
     "languageId": "r"
    }
   },
   "outputs": [],
   "source": [
    "# The arrow is not a valid symbol for assignment in Python\n",
    "myVariable <- 1"
   ]
  },
  {
   "cell_type": "markdown",
   "metadata": {
    "id": "8k9Q21xI0Cca"
   },
   "source": [
    "## 3.1 Task: Fixing Syntax Errors\n",
    "\n",
    "The following Python program contains several syntactic errors. Can you fix them using AI?\n"
   ]
  },
  {
   "cell_type": "code",
   "execution_count": null,
   "metadata": {
    "id": "8C_7Er2A0Mky",
    "vscode": {
     "languageId": "r"
    }
   },
   "outputs": [],
   "source": [
    "# List of numbers\n",
    "numbers := [10, 20, 30, 40, 50]\n",
    "\n",
    "# Check if the list is not empty to avoid division by zero\n",
    "if numbers:\n",
    "    total_sum = sum(numbers)  # Sum of all numbers in the list\n",
    "    count = len{numbers}  # Count of numbers in the list\n",
    "    average = total_sum / count  # Compute the average\n",
    "else;\n",
    "    average = 0  # Handle the case of an empty list\n",
    "\n",
    "print(f\"The average of the list is: {average}\")"
   ]
  },
  {
   "cell_type": "markdown",
   "metadata": {
    "id": "Yh0mzfSlwj-E"
   },
   "source": [
    "## 3.2 Task: Breaking the AI\n",
    "\n",
    "Consider the following (elementary) program. Before running it:\n",
    "\n",
    "- Ask the AI to check if it contains any syntactic error.\n",
    "\n",
    "- Introduce some syntactic errors (note, these are errors about the program keywords, operators, structure, etc, not errors about the correct behavior) and ask the AI to spot them.\n",
    "\n",
    "- Introduce more errors and check the ability of the AI to find them. How much do you need to change the program before the AI starts failing at detecting errors?\n"
   ]
  },
  {
   "cell_type": "code",
   "execution_count": null,
   "metadata": {
    "id": "TZiC0_1mwkcr",
    "vscode": {
     "languageId": "r"
    }
   },
   "outputs": [],
   "source": [
    "import random\n",
    "\n",
    "# Welcome message\n",
    "print(\"Welcome to the Number Guessing Game!\")\n",
    "\n",
    "# Set the range for the random number\n",
    "min_number = 1\n",
    "max_number = 100\n",
    "\n",
    "# Generate a random number between min_number and max_number\n",
    "secret_number = random.randint(min_number, max_number)\n",
    "\n",
    "# Explain the rules to the user\n",
    "print(f\"I am thinking of a number between {min_number} and {max_number}.\")\n",
    "print(\"Try to guess the number!\")\n",
    "\n",
    "# Initialize the number of attempts\n",
    "attempts = 0\n",
    "\n",
    "# Boolean to track if the game is over\n",
    "game_over = False\n",
    "\n",
    "# Main game loop\n",
    "while not game_over:\n",
    "    # Ask the user for their guess\n",
    "    guess = int(input(\"Enter your guess: \"))\n",
    "    attempts += 1  # Increment the attempt counter\n",
    "\n",
    "    # Check if the guess is too low\n",
    "    if guess < secret_number:\n",
    "        print(\"Too low! Try again.\")\n",
    "\n",
    "    # Check if the guess is too high\n",
    "    elif guess > secret_number:\n",
    "        print(\"Too high! Try again.\")\n",
    "\n",
    "    # Check if the guess is correct\n",
    "    else:\n",
    "        print(f\"Congratulations! You guessed the number in {attempts} attempts.\")\n",
    "        game_over = True  # End the game\n",
    "\n",
    "# End of game message\n",
    "print(\"Thank you for playing the Number Guessing Game!\")"
   ]
  }
 ],
 "metadata": {
  "colab": {
   "provenance": []
  },
  "kernelspec": {
   "display_name": "R",
   "language": "R",
   "name": "ir"
  },
  "language_info": {
   "codemirror_mode": "r",
   "file_extension": ".r",
   "mimetype": "text/x-r-source",
   "name": "R",
   "pygments_lexer": "r",
   "version": "4.4.1"
  }
 },
 "nbformat": 4,
 "nbformat_minor": 0
}
