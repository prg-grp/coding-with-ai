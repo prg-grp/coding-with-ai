{
 "cells": [
  {
   "cell_type": "markdown",
   "metadata": {
    "id": "13EzWXKkx7AM"
   },
   "source": [
    "# 4 Writing Algorithms with AI\n",
    "\n",
    "An algorithm is a finite sequence of well-defined instructions used to solve a problem. See, for example https://en.wikipedia.org/wiki/Algorithm.\n",
    "AI can be used to generate the programs that implement a certain algorithm.\n"
   ]
  },
  {
   "cell_type": "markdown",
   "metadata": {
    "id": "QxAn2A--61GC"
   },
   "source": [
    "## 4.1 Task: Giving Granular Steps\n",
    "\n",
    "To get the help of the AI, you can specify the steps that the algorithm should follow. For example:\n",
    "\n",
    "Using AI, implement an algorithm that:\n",
    "\n",
    "- Receives as input a list of numbers\n",
    "- Computes the sum of the numbers\n",
    "- Computes the size of the list\n",
    "- Divides the sum of the numbers by the size of the list\n",
    "- Prints the result\n"
   ]
  },
  {
   "cell_type": "code",
   "execution_count": null,
   "metadata": {
    "id": "XR2kx0Odxvos",
    "vscode": {
     "languageId": "r"
    }
   },
   "outputs": [],
   "source": [
    "# The algorithm goes here"
   ]
  },
  {
   "cell_type": "markdown",
   "metadata": {
    "id": "xVrnfqYE7yyV"
   },
   "source": [
    "## 4.2 Task: Giving High-Level Specifications\n",
    "\n",
    "Instead of specifying the individual steps, one can provide the AI with a higher level specification of the algorithm.\n",
    "\n",
    "For example, 'Generate a program that computes the average of a list of numbers and prints the result'.\n",
    "\n",
    "- Try to generate the algorithm above using AI.\n",
    "\n",
    "- Compare this approach with the step-by-step approach. Note that the resulting program might not be broken down into steps and may be harder to understand.\n"
   ]
  },
  {
   "cell_type": "code",
   "execution_count": null,
   "metadata": {
    "id": "4A5vwkpI9OWz",
    "vscode": {
     "languageId": "r"
    }
   },
   "outputs": [],
   "source": [
    "# The algorithm goes here"
   ]
  },
  {
   "cell_type": "markdown",
   "metadata": {
    "id": "2j1sJkaM9SQN"
   },
   "source": [
    "## 4.3 Task: Linear Regression\n",
    "\n",
    "Generate an algorithm to compute a linear regression (https://en.wikipedia.org/wiki/Linear_regression). You can also ask the AI to explain what linear regression is if you are not familiar with it or need a refresher.\n",
    "\n",
    "- First, generate a step-by-step algorithm.\n",
    "- Next, generate the whole algorithm from a high-level specification.\n",
    "\n",
    "Hint: ask the AI for the exact steps that are required in the algorithm (in natural language), then use those steps to obtain a step-by-step formulation of the algorithm in Python.\n"
   ]
  },
  {
   "cell_type": "code",
   "execution_count": null,
   "metadata": {
    "id": "nhtZy8O8ImFn",
    "vscode": {
     "languageId": "r"
    }
   },
   "outputs": [],
   "source": [
    "# Linear regression step-by-step"
   ]
  },
  {
   "cell_type": "code",
   "execution_count": null,
   "metadata": {
    "id": "6kDI4h5OI8lQ",
    "vscode": {
     "languageId": "r"
    }
   },
   "outputs": [],
   "source": [
    "# Linear regression from a high-level specification"
   ]
  },
  {
   "cell_type": "markdown",
   "metadata": {
    "id": "ln48uZcDI3JU"
   },
   "source": [
    "## 4.4 Task: Banking System\n",
    "\n",
    "Consider a program that implements the following specification:\n",
    "\n",
    "Create a simple text-based banking system. The system allows users to create an account, deposit money, withdraw money, and check their balance. It uses basic programming constructs such as variables, loops, conditionals, and input/output operations.\n",
    "\n",
    "Requirements:\n",
    "\n",
    "1. Account Creation:\n",
    "\n",
    "* Users can create an account by entering their name and an initial deposit amount.\n",
    "* The system should store the account balance and the account holder’s name.\n",
    "\n",
    "2. Deposit Money:\n",
    "\n",
    "* Users can deposit money into their account.\n",
    "* The account balance should be updated accordingly.\n",
    "\n",
    "3. Withdraw Money:\n",
    "\n",
    "* Users can withdraw money from their account.\n",
    "* The system should check if there is enough balance for the withdrawal. If not, an appropriate message should be displayed.\n",
    "\n",
    "4. Check Balance:\n",
    "\n",
    "* Users can check their current account balance.\n",
    "\n",
    "5. Exit:\n",
    "\n",
    "* Users can exit the program.\n",
    "\n",
    "6. Menu-Driven Interface:\n",
    "\n",
    "* The program should display a menu with options to create an account, deposit money, withdraw money, check balance, and exit.\n",
    "* The user should be able to select an option to perform an action.\n",
    "\n",
    "A possible implementation for this specification follows. You can spot that the program has a regular structure: Each number input provided by the user corresponds to a different functionality.\n",
    "\n",
    "- Try to generate the program incrementally, providing the AI one or more points in the specification and then asking the AI to add the order gradually. In between, make sure that you understand the (partial) implementation suggested by the AI.\n",
    "\n",
    "- Propose a new functionality in the specification and implement it on top of the existing ones using the AI.\n"
   ]
  },
  {
   "cell_type": "code",
   "execution_count": null,
   "metadata": {
    "id": "Ghciu8vSypDE",
    "vscode": {
     "languageId": "r"
    }
   },
   "outputs": [],
   "source": [
    "# Initialize variables\n",
    "account_created = False\n",
    "account_holder_name = \"\"\n",
    "balance = 0.0\n",
    "\n",
    "# Main program loop\n",
    "while True:\n",
    "    # Display menu\n",
    "    print(\"\\nSimple Banking System\")\n",
    "    print(\"1. Create an Account\")\n",
    "    print(\"2. Deposit Money\")\n",
    "    print(\"3. Withdraw Money\")\n",
    "    print(\"4. Check Balance\")\n",
    "    print(\"5. Exit\")\n",
    "    choice = input(\"Choose an option: \")\n",
    "\n",
    "    if choice == '1':\n",
    "        if account_created:\n",
    "            print(\"Account already exists.\")\n",
    "        else:\n",
    "            account_holder_name = input(\"Enter your name: \")\n",
    "            initial_deposit = input(\"Enter the initial deposit amount: \")\n",
    "\n",
    "            # Input validation: Ensure the initial deposit is a valid number\n",
    "            if initial_deposit.replace('.', '', 1).isdigit() and float(initial_deposit) >= 0:\n",
    "                balance = float(initial_deposit)\n",
    "                account_created = True\n",
    "                print(f\"Account created successfully for {account_holder_name} with balance ${balance:.2f}\")\n",
    "            else:\n",
    "                print(\"Invalid deposit amount. Please enter a positive number.\")\n",
    "\n",
    "    elif choice == '2':\n",
    "        if not account_created:\n",
    "            print(\"No account found. Please create an account first.\")\n",
    "        else:\n",
    "            deposit_amount = input(\"Enter the amount to deposit: \")\n",
    "\n",
    "            # Input validation: Ensure the deposit amount is a valid number\n",
    "            if deposit_amount.replace('.', '', 1).isdigit() and float(deposit_amount) > 0:\n",
    "                balance += float(deposit_amount)\n",
    "                print(f\"${float(deposit_amount):.2f} deposited successfully. New balance: ${balance:.2f}\")\n",
    "            else:\n",
    "                print(\"Invalid deposit amount. Please enter a positive number.\")\n",
    "\n",
    "    elif choice == '3':\n",
    "        if not account_created:\n",
    "            print(\"No account found. Please create an account first.\")\n",
    "        else:\n",
    "            withdrawal_amount = input(\"Enter the amount to withdraw: \")\n",
    "\n",
    "            # Input validation: Ensure the withdrawal amount is a valid number\n",
    "            if withdrawal_amount.replace('.', '', 1).isdigit() and float(withdrawal_amount) > 0:\n",
    "                withdrawal_amount = float(withdrawal_amount)\n",
    "                if withdrawal_amount > balance:\n",
    "                    print(\"Insufficient funds. Withdrawal failed.\")\n",
    "                else:\n",
    "                    balance -= withdrawal_amount\n",
    "                    print(f\"${withdrawal_amount:.2f} withdrawn successfully. New balance: ${balance:.2f}\")\n",
    "            else:\n",
    "                print(\"Invalid withdrawal amount. Please enter a positive number.\")\n",
    "\n",
    "    elif choice == '4':\n",
    "        if not account_created:\n",
    "            print(\"No account found. Please create an account first.\")\n",
    "        else:\n",
    "            print(f\"Account holder: {account_holder_name}\")\n",
    "            print(f\"Current balance: ${balance:.2f}\")\n",
    "\n",
    "    elif choice == '5':\n",
    "        print(\"Exiting the banking system. Goodbye!\")\n",
    "        break\n",
    "\n",
    "    else:\n",
    "        print(\"Invalid choice. Please choose a valid option.\")"
   ]
  }
 ],
 "metadata": {
  "colab": {
   "provenance": []
  },
  "kernelspec": {
   "display_name": "R",
   "language": "R",
   "name": "ir"
  },
  "language_info": {
   "codemirror_mode": "r",
   "file_extension": ".r",
   "mimetype": "text/x-r-source",
   "name": "R",
   "pygments_lexer": "r",
   "version": "4.4.1"
  }
 },
 "nbformat": 4,
 "nbformat_minor": 0
}
