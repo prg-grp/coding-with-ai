{
 "cells": [
  {
   "cell_type": "markdown",
   "metadata": {},
   "source": [
    "# About Part II: Software Construction with AI\n",
    "\n",
    "This part moves beyond basic coding tasks and into the realm of software construction—where structure, readability, and long-term maintainability become central.\n",
    "\n",
    "Here, the focus shifts to activities like refactoring code, working with data structures, and testing. These exercises highlight how AI tools can support not just the act of writing code, but the process of shaping and improving it over time.\n",
    "\n",
    "You’ll explore how to use AI to restructure existing code, reason about performance and organization, and generate or evaluate tests. The exercises are designed to be modular and open-ended, allowing room for experimentation while still anchored in practical goals.\n",
    "\n",
    "While the tasks in this part may require more planning and context than those in Part I, the approach remains hands-on and flexible. You’re encouraged to reflect, iterate, and explore different solutions—with the AI acting as a collaborator in your design and problem-solving process.\n",
    "\n",
    "Whether you’re tidying up messy code or validating the behavior of complex functions, this part invites you to think like a software builder, not just a coder."
   ]
  }
 ],
 "metadata": {
  "colab": {
   "provenance": []
  },
  "kernelspec": {
   "display_name": "R",
   "language": "R",
   "name": "ir"
  },
  "language_info": {
   "codemirror_mode": "r",
   "file_extension": ".r",
   "mimetype": "text/x-r-source",
   "name": "R",
   "pygments_lexer": "r",
   "version": "4.4.1"
  }
 },
 "nbformat": 4,
 "nbformat_minor": 0
}
