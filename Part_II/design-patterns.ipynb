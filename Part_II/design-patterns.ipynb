{
 "cells": [
  {
   "cell_type": "markdown",
   "id": "e2d21214",
   "metadata": {},
   "source": [
    "# 11 Design Patterns with AI\n",
    "\n",
    "**Design patterns** are general, reusable solutions to common software design problems. They are not code templates, but rather best practices and conceptual *blueprints* for solving particular challenges in object-oriented software design.\n",
    "\n",
    "AI tools like large language models (LLMs) can help:\n",
    "\n",
    "- Recognize which design pattern fits a situation\n",
    "- Refactor procedural code into patterns\n",
    "- Compare and contrast patterns\n",
    "- Implement variants in different languages or paradigms\n",
    "\n",
    "In this notebook, you'll explore a few common design patterns and see how AI can help you understand and apply them.\n",
    "\n",
    "Design patterns, as a formalized concept in software engineering, were popularized by the “Gang of Four” (GoF) with the publication of their influential book: “Design Patterns: Elements of Reusable Object-Oriented Software”\n",
    "Authors: Erich Gamma, Richard Helm, Ralph Johnson, and John Vlissides\n",
    "Published in 1994\n"
   ]
  },
  {
   "cell_type": "markdown",
   "id": "ac1537d6",
   "metadata": {},
   "source": [
    "## 11.1 Singleton Pattern\n"
   ]
  },
  {
   "cell_type": "markdown",
   "id": "d6aeebde",
   "metadata": {},
   "source": [
    "The following code is an implementation fo the Singleton pattern in Python. The Singleton pattern ensures that a class has only one instance and provides a global point of access to it."
   ]
  },
  {
   "cell_type": "code",
   "execution_count": null,
   "id": "97e49186",
   "metadata": {},
   "outputs": [],
   "source": [
    "class Singleton:\n",
    "    _instance = None\n",
    "\n",
    "    def __new__(cls):\n",
    "        if cls._instance is None:\n",
    "            cls._instance = super(Singleton, cls).__new__(cls)\n",
    "        return cls._instance\n",
    "\n",
    "# Example usage\n",
    "singleton1 = Singleton()\n",
    "singleton2 = Singleton()\n",
    "print(singleton1 is singleton2)  # True"
   ]
  },
  {
   "cell_type": "markdown",
   "id": "df2ee67d",
   "metadata": {},
   "source": [
    "### 11.1.1 Task:\n",
    "\n",
    "Use an AI assistant to explain how the Singleton pattern works, in general and specifically referring to the provided code. \n",
    "Then, ask the assistant to refactor the code to use a different approach to implement the Singleton pattern.\n"
   ]
  },
  {
   "cell_type": "markdown",
   "id": "29d89f65",
   "metadata": {},
   "source": [
    "## 11.2 Strategy Pattern\n"
   ]
  },
  {
   "cell_type": "markdown",
   "id": "4bd5f8e5",
   "metadata": {},
   "source": [
    "The following code is an implementation of the Strategy pattern in Python. The Strategy pattern defines a family of algorithms, encapsulates each one, and makes them interchangeable. This pattern lets the algorithm vary independently from the clients that use it."
   ]
  },
  {
   "cell_type": "code",
   "execution_count": null,
   "id": "760cd917",
   "metadata": {},
   "outputs": [],
   "source": [
    "class StrategyBase:\n",
    "    def execute(self, data):\n",
    "        pass\n",
    "\n",
    "class AddStrategy(StrategyBase):\n",
    "    def execute(self, data):\n",
    "        return data + 10\n",
    "\n",
    "class MultiplyStrategy(StrategyBase):\n",
    "    def execute(self, data):\n",
    "        return data * 10\n",
    "\n",
    "class Context:\n",
    "    def __init__(self, strategy):\n",
    "        self.strategy = strategy\n",
    "\n",
    "    def run(self, data):\n",
    "        return self.strategy.execute(data)\n",
    "\n",
    "# Example\n",
    "ctx = Context(AddStrategy())\n",
    "print(ctx.run(5))\n",
    "ctx.strategy = MultiplyStrategy()\n",
    "print(ctx.run(5))"
   ]
  },
  {
   "cell_type": "markdown",
   "id": "7a63c850",
   "metadata": {},
   "source": [
    "### 11.2.1 Task:\n",
    "\n",
    "Use the AI to:\n",
    "- Explain the code of the Strategy pattern\n",
    "- Suggest other scenarios where Strategy would be helpful\n",
    "- Add a new strategy that uses a lambda\n"
   ]
  },
  {
   "cell_type": "markdown",
   "id": "d621bd38",
   "metadata": {},
   "source": [
    "## 11.3 Observer Pattern\n"
   ]
  },
  {
   "cell_type": "markdown",
   "id": "9c23382e",
   "metadata": {},
   "source": [
    "The following is an implementation of the Observer pattern in Python. The Observer pattern defines a one-to-many dependency between objects so that when one object changes state, all its dependents are notified and updated automatically."
   ]
  },
  {
   "cell_type": "code",
   "execution_count": null,
   "id": "0f9ee581",
   "metadata": {},
   "outputs": [],
   "source": [
    "class Subject:\n",
    "    def __init__(self):\n",
    "        self._observers = []\n",
    "\n",
    "    def register(self, observer):\n",
    "        self._observers.append(observer)\n",
    "\n",
    "    def notify(self, message):\n",
    "        for observer in self._observers:\n",
    "            observer.update(message)\n",
    "\n",
    "class Observer:\n",
    "    def update(self, message):\n",
    "        print(f\"Observer received: {message}\")\n",
    "\n",
    "# Example\n",
    "subject = Subject()\n",
    "subject.register(Observer())\n",
    "subject.notify(\"Hello observers!\")"
   ]
  },
  {
   "cell_type": "markdown",
   "id": "e245e5cd",
   "metadata": {},
   "source": [
    "### 11.3.1 Task:\n",
    "\n",
    "Use AI to:\n",
    "- Explain the Observer pattern referring to the provided code\n",
    "- Turn the Observer into an event logger\n",
    "- Add support for unregistering observers\n"
   ]
  },
  {
   "cell_type": "markdown",
   "id": "9e84c173",
   "metadata": {},
   "source": [
    "## 11.4 Factory Pattern\n"
   ]
  },
  {
   "cell_type": "markdown",
   "id": "cb85ffcf",
   "metadata": {},
   "source": [
    "The Factory design pattern is a creational pattern that provides an interface for creating objects in a superclass but allows subclasses to alter the type of objects that will be created. It is used when the exact type of the object to be created is determined at runtime."
   ]
  },
  {
   "cell_type": "code",
   "execution_count": null,
   "id": "f153fbd8",
   "metadata": {},
   "outputs": [],
   "source": [
    "class Animal:\n",
    "    def speak(self):\n",
    "        pass\n",
    "\n",
    "class Dog(Animal):\n",
    "    def speak(self):\n",
    "        return \"Woof!\"\n",
    "\n",
    "class Cat(Animal):\n",
    "    def speak(self):\n",
    "        return \"Meow!\"\n",
    "\n",
    "class AnimalFactory:\n",
    "    @staticmethod\n",
    "    def create_animal(animal_type):\n",
    "        if animal_type == \"dog\":\n",
    "            return Dog()\n",
    "        elif animal_type == \"cat\":\n",
    "            return Cat()\n",
    "        else:\n",
    "            raise ValueError(\"Unknown animal type\")\n",
    "\n",
    "# Example\n",
    "animal = AnimalFactory.create_animal(\"dog\")\n",
    "print(animal.speak())"
   ]
  },
  {
   "cell_type": "markdown",
   "id": "340fd195",
   "metadata": {},
   "source": [
    "### 11.4.1 Task:\n",
    "\n",
    "Use the AI to:\n",
    "\n",
    "- Add another type of animal\n",
    "- Replace the if-else with a registry for cleaner extension\n"
   ]
  },
  {
   "cell_type": "markdown",
   "id": "4d64fdd1",
   "metadata": {},
   "source": [
    "## 11.5 AI-Assisted Refactoring Prompt\n",
    "\n",
    "Refactor the following script using a design pattern to improve modularity and reuse. Suggest the most appropriate pattern and implement it.\n"
   ]
  },
  {
   "cell_type": "code",
   "execution_count": null,
   "id": "7d336e91",
   "metadata": {},
   "outputs": [],
   "source": [
    "class NotificationSender:\n",
    "    def send(self, message, channel):\n",
    "        if channel == \"email\":\n",
    "            print(f\"Sending Email: {message}\")\n",
    "        elif channel == \"sms\":\n",
    "            print(f\"Sending SMS: {message}\")\n",
    "        elif channel == \"push\":\n",
    "            print(f\"Sending Push Notification: {message}\")\n",
    "        else:\n",
    "            raise ValueError(\"Unknown channel\")\n",
    "\n",
    "# Usage\n",
    "sender = NotificationSender()\n",
    "sender.send(\"Hello World!\", \"email\")\n",
    "sender.send(\"Hello again!\", \"sms\")"
   ]
  },
  {
   "cell_type": "markdown",
   "id": "0bac435d",
   "metadata": {},
   "source": [
    "Hint: the strategy pattern is a good candidate for this task:\n",
    "- Extensibility: Adding a new notification type only requires a new class.\n",
    "- Maintainability: No need to touch existing logic to add new behaviors."
   ]
  }
 ],
 "metadata": {
  "language_info": {
   "name": "python"
  }
 },
 "nbformat": 4,
 "nbformat_minor": 5
}
