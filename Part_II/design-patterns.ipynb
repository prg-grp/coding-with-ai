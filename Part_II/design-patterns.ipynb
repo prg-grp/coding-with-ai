{
 "cells": [
  {
   "cell_type": "markdown",
   "id": "e2d21214",
   "metadata": {},
   "source": [
    "# 12.x Design Patterns with AI\n",
    "\n",
    "## Introduction\n",
    "\n",
    "**Design patterns** are general, reusable solutions to common software design problems. They are not code templates, but rather best practices and conceptual blueprints for solving particular challenges in object-oriented software design.\n",
    "\n",
    "AI tools like large language models (LLMs) can help:\n",
    "- Recognize which design pattern fits a situation\n",
    "- Refactor procedural code into patterns\n",
    "- Compare and contrast patterns\n",
    "- Implement variants in different languages or paradigms\n",
    "\n",
    "In this notebook, you'll explore a few common design patterns and see how AI can help you understand and apply them."
   ]
  },
  {
   "cell_type": "markdown",
   "id": "ac1537d6",
   "metadata": {},
   "source": [
    "## Singleton Pattern"
   ]
  },
  {
   "cell_type": "code",
   "execution_count": null,
   "id": "97e49186",
   "metadata": {},
   "outputs": [],
   "source": [
    "class Singleton:\n",
    "    _instance = None\n",
    "\n",
    "    def __new__(cls):\n",
    "        if cls._instance is None:\n",
    "            cls._instance = super(Singleton, cls).__new__(cls)\n",
    "        return cls._instance\n",
    "\n",
    "# Example usage\n",
    "singleton1 = Singleton()\n",
    "singleton2 = Singleton()\n",
    "print(singleton1 is singleton2)  # True"
   ]
  },
  {
   "cell_type": "markdown",
   "id": "df2ee67d",
   "metadata": {},
   "source": [
    "### Task:\n",
    "Use an AI assistant to:\n",
    "- Explain how the Singleton pattern works\n",
    "- Rewrite it in a functional style"
   ]
  },
  {
   "cell_type": "markdown",
   "id": "29d89f65",
   "metadata": {},
   "source": [
    "## Strategy Pattern"
   ]
  },
  {
   "cell_type": "code",
   "execution_count": null,
   "id": "760cd917",
   "metadata": {},
   "outputs": [],
   "source": [
    "class StrategyBase:\n",
    "    def execute(self, data):\n",
    "        pass\n",
    "\n",
    "class AddStrategy(StrategyBase):\n",
    "    def execute(self, data):\n",
    "        return data + 10\n",
    "\n",
    "class MultiplyStrategy(StrategyBase):\n",
    "    def execute(self, data):\n",
    "        return data * 10\n",
    "\n",
    "class Context:\n",
    "    def __init__(self, strategy):\n",
    "        self.strategy = strategy\n",
    "\n",
    "    def run(self, data):\n",
    "        return self.strategy.execute(data)\n",
    "\n",
    "# Example\n",
    "ctx = Context(AddStrategy())\n",
    "print(ctx.run(5))\n",
    "ctx.strategy = MultiplyStrategy()\n",
    "print(ctx.run(5))"
   ]
  },
  {
   "cell_type": "markdown",
   "id": "7a63c850",
   "metadata": {},
   "source": [
    "### Task:\n",
    "Use the AI to:\n",
    "- Suggest other scenarios where Strategy would be helpful\n",
    "- Add a new strategy that uses a lambda"
   ]
  },
  {
   "cell_type": "markdown",
   "id": "d621bd38",
   "metadata": {},
   "source": [
    "## Observer Pattern"
   ]
  },
  {
   "cell_type": "code",
   "execution_count": null,
   "id": "0f9ee581",
   "metadata": {},
   "outputs": [],
   "source": [
    "class Subject:\n",
    "    def __init__(self):\n",
    "        self._observers = []\n",
    "\n",
    "    def register(self, observer):\n",
    "        self._observers.append(observer)\n",
    "\n",
    "    def notify(self, message):\n",
    "        for observer in self._observers:\n",
    "            observer.update(message)\n",
    "\n",
    "class Observer:\n",
    "    def update(self, message):\n",
    "        print(f\"Observer received: {message}\")\n",
    "\n",
    "# Example\n",
    "subject = Subject()\n",
    "subject.register(Observer())\n",
    "subject.notify(\"Hello observers!\")"
   ]
  },
  {
   "cell_type": "markdown",
   "id": "e245e5cd",
   "metadata": {},
   "source": [
    "### Task:\n",
    "Use AI to:\n",
    "- Turn the Observer into an event logger\n",
    "- Add support for unregistering observers"
   ]
  },
  {
   "cell_type": "markdown",
   "id": "9e84c173",
   "metadata": {},
   "source": [
    "## Factory Pattern"
   ]
  },
  {
   "cell_type": "code",
   "execution_count": null,
   "id": "f153fbd8",
   "metadata": {},
   "outputs": [],
   "source": [
    "class Animal:\n",
    "    def speak(self):\n",
    "        pass\n",
    "\n",
    "class Dog(Animal):\n",
    "    def speak(self):\n",
    "        return \"Woof!\"\n",
    "\n",
    "class Cat(Animal):\n",
    "    def speak(self):\n",
    "        return \"Meow!\"\n",
    "\n",
    "class AnimalFactory:\n",
    "    @staticmethod\n",
    "    def create_animal(animal_type):\n",
    "        if animal_type == \"dog\":\n",
    "            return Dog()\n",
    "        elif animal_type == \"cat\":\n",
    "            return Cat()\n",
    "        else:\n",
    "            raise ValueError(\"Unknown animal type\")\n",
    "\n",
    "# Example\n",
    "animal = AnimalFactory.create_animal(\"dog\")\n",
    "print(animal.speak())"
   ]
  },
  {
   "cell_type": "markdown",
   "id": "340fd195",
   "metadata": {},
   "source": [
    "### Task:\n",
    "Use the AI to:\n",
    "- Add another type of animal\n",
    "- Replace the if-else with a registry for cleaner extension"
   ]
  },
  {
   "cell_type": "markdown",
   "id": "4d64fdd1",
   "metadata": {},
   "source": [
    "## AI-Assisted Refactoring Prompt\n",
    "\n",
    "> \"Refactor the following script using a design pattern to improve modularity and reuse. Suggest the most appropriate pattern and implement it.\"\n",
    "\n",
    "Try this with any script you’ve already written (e.g., `SalesAnalyzer`)."
   ]
  },
  {
   "cell_type": "markdown",
   "id": "1980d311",
   "metadata": {},
   "source": [
    "## Summary\n",
    "\n",
    "Design patterns improve code reuse, clarity, and flexibility. With AI, you can:\n",
    "- Learn patterns interactively\n",
    "- Identify and fix code that violates principles\n",
    "- Generate variations across styles and languages\n",
    "\n",
    "Use patterns thoughtfully and let AI help you apply them efficiently!"
   ]
  }
 ],
 "metadata": {
  "language_info": {
   "name": "python"
  }
 },
 "nbformat": 4,
 "nbformat_minor": 5
}
