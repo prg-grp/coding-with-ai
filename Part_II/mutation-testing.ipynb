{
 "cells": [
  {
   "cell_type": "markdown",
   "id": "4d9fe3c5",
   "metadata": {},
   "source": [
    "# 12 Mutation Testing\n",
    "\n",
    "Mutation testing is a technique to evaluate the quality of your test suite. It works by making small changes (mutations) to your code — called *mutants* — and then running your tests. If the tests fail, the mutant is said to be *killed*; if the tests pass, the mutant *survived*, indicating a potential weakness in the test suite.\n",
    "\n",
    "It is crucial to understand that mutation testing is a technique to improve the quality *of the test suite*. \n",
    "\n",
    "Mutation testing can help uncover:\n",
    "- Untested branches of logic\n",
    "- Missing edge cases\n",
    "- Overly specific or weak assertions\n",
    "\n",
    "We will apply mutation testing to the same function we used in unit testing:"
   ]
  },
  {
   "cell_type": "code",
   "execution_count": 2,
   "id": "71048fe7",
   "metadata": {},
   "outputs": [],
   "source": [
    "def transform_number(number):\n",
    "    \"\"\"\n",
    "    Transforms the number by squaring it if even, or tripling it if odd.\n",
    "    Returns the transformed number.\n",
    "    \"\"\"\n",
    "    if number % 2 == 0:\n",
    "        return number ** 2  # Square even numbers\n",
    "    else:\n",
    "        return number * 3   # Triple odd numbers"
   ]
  },
  {
   "cell_type": "markdown",
   "id": "831e41af",
   "metadata": {},
   "source": [
    "### Define Tests Using `pytest`"
   ]
  },
  {
   "cell_type": "code",
   "execution_count": 13,
   "id": "06b272b6",
   "metadata": {},
   "outputs": [],
   "source": [
    "import pytest\n",
    "\n",
    "def test_transform_even():\n",
    "    assert transform_number(2) == 4\n",
    "    assert transform_number(0) == 0\n",
    "    assert transform_number(-4) == 16\n",
    "\n",
    "def test_transform_odd():\n",
    "    assert transform_number(1) == 3\n",
    "    assert transform_number(5) == 15\n",
    "    assert transform_number(-3) == -9"
   ]
  },
  {
   "cell_type": "markdown",
   "id": "2941d15b",
   "metadata": {},
   "source": [
    "### Mutation Testing Tools\n",
    "\n",
    "Mutation testing tools like [`mutmut`](https://github.com/boxed/mutmut) or [`cosmic-ray`](https://github.com/sixty-north/cosmic-ray) can automate the mutation process."
   ]
  },
  {
   "cell_type": "markdown",
   "id": "51c98b32",
   "metadata": {},
   "source": [
    "### Option A: Using mutmut (if allowed in your environment)\n",
    "\n",
    "```bash\n",
    "pip install mutmut\n",
    "mutmut run\n",
    "mutmut results\n",
    "```"
   ]
  },
  {
   "cell_type": "markdown",
   "id": "4d1b87ac",
   "metadata": {},
   "source": [
    "### Option B: Manual Mutation (if external tools are not allowed)\n",
    "Manually change the function to simulate a mutation and re-run your tests. For example:"
   ]
  },
  {
   "cell_type": "code",
   "execution_count": 9,
   "id": "d4a83b18",
   "metadata": {},
   "outputs": [],
   "source": [
    "# Mutation: change `** 2` to `* 2`\n",
    "def transform_number(number):\n",
    "    if number % 2 == 0:\n",
    "        return number * 2   # Mutant logic here\n",
    "    else:\n",
    "        return number * 3"
   ]
  },
  {
   "cell_type": "markdown",
   "id": "847cb798",
   "metadata": {},
   "source": [
    "## 12.1 AI-Assisted Mutation Test improvement\n",
    "\n",
    "Based on the mutation of the function transform_number above, improve the test suite to make sure that it captures the mutation.\n",
    "\n",
    "In this case the AI can recommend new tests to kill surviving mutants."
   ]
  },
  {
   "cell_type": "code",
   "execution_count": null,
   "id": "0ab078f5",
   "metadata": {},
   "outputs": [],
   "source": [
    "# The improved test suite goes here"
   ]
  },
  {
   "cell_type": "markdown",
   "id": "e4b729bb",
   "metadata": {},
   "source": [
    "## 12.1 AI-Assisted Mutation\n",
    "\n",
    "Another use of the AI is to suggest likely mutations based on your code.\n",
    "Ask the AI to suggest mutations for the function `transform_number` and then run the tests to see if they are killed or survived.\n"
   ]
  },
  {
   "cell_type": "code",
   "execution_count": null,
   "id": "119361ae",
   "metadata": {},
   "outputs": [],
   "source": [
    "# New mutants of the `transform_number` function goes here"
   ]
  }
 ],
 "metadata": {
  "kernelspec": {
   "display_name": "Python 3",
   "language": "python",
   "name": "python3"
  },
  "language_info": {
   "codemirror_mode": {
    "name": "ipython",
    "version": 3
   },
   "file_extension": ".py",
   "mimetype": "text/x-python",
   "name": "python",
   "nbconvert_exporter": "python",
   "pygments_lexer": "ipython3",
   "version": "3.8.18"
  }
 },
 "nbformat": 4,
 "nbformat_minor": 5
}
