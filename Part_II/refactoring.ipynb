{
 "cells": [
  {
   "cell_type": "markdown",
   "metadata": {},
   "source": [
    "# 7 Refactoring\n",
    "\n",
    "Refactoring is about performing a code transformation that improves software design without changing its behavior([Code Refactoring](https://en.wikipedia.org/wiki/Code_refactoring)). Classic examples of refactoring include renaming variables and functions, breaking down a long method into multiple ones, and synthetizing setters and getters for a class field.\n",
    "\n",
    "Refactoring can be done manually or automatically (many IDEs provide support for automated refactoring, e.g., [here](https://en.wikipedia.org/wiki/Code_refactoring)). Automatic methods are analytical, correct by design, and based on static analysis. Yet AI can support refactoring -- even if with less correctness guarantees.\n"
   ]
  },
  {
   "cell_type": "markdown",
   "metadata": {},
   "source": [
    "## 7.1 Task: Variable Renaming\n",
    "\n",
    "Refactor the following code to rename the variable ''numbers''\n"
   ]
  },
  {
   "cell_type": "code",
   "execution_count": null,
   "metadata": {},
   "outputs": [
    {
     "ename": "ERROR",
     "evalue": "Error in parse(text = input): <text>:2:11: Unerwartete(s) '['\n1: # Initialize a list of numbers\n2: numbers = [\n             ^\n",
     "output_type": "error",
     "traceback": [
      "Error in parse(text = input): <text>:2:11: Unerwartete(s) '['\n1: # Initialize a list of numbers\n2: numbers = [\n             ^\nTraceback:\n"
     ]
    }
   ],
   "source": [
    "# Initialize a list of numbers\n",
    "numbers = [1, 2, 3, 4, 5]\n",
    "\n",
    "# Outer loop: iterates 5 times\n",
    "for i in range(5):\n",
    "    print(f\"Iteration {i+1} of the outer loop:\")\n",
    "    \n",
    "    # Inner loop: iterates over the list 'numbers'\n",
    "    for number in numbers:\n",
    "        print(f\"Number from the list: {number}\")\n",
    "\n",
    "    print(\"-\" * 20)\n"
   ]
  },
  {
   "cell_type": "markdown",
   "metadata": {},
   "source": [
    "## 7.2 Variable Renaming\n",
    "\n",
    "Create a Python program where the scoping of a variable is complex enough that the correct refactoring (renaming) with AI fails.\n"
   ]
  },
  {
   "cell_type": "code",
   "execution_count": null,
   "metadata": {},
   "outputs": [],
   "source": [
    "# Program goes here"
   ]
  },
  {
   "cell_type": "markdown",
   "metadata": {},
   "source": [
    "## 7.3 Semantic Refactoring: Procedural to Object-Oriented\n",
    "\n",
    "There are refactorings that an LLM Can Do but an IDE Typically cannot. A good example are semantic or high-level intent-based refactoring, even without a rigid project structure.\n",
    "\n",
    "**Warning:** The correctness of the refactoring is not guaranteed. The LLM may produce code that does not compile or that does not work as intended. Always test the refactored code before using it in production.\n",
    "\n",
    "Refactor the following procedural script into an object-oriented design based on natural language goals, such as: \"Transform this data analysis script into a reusable Python class with methods for loading, cleaning, analyzing, and exporting data.\""
   ]
  },
  {
   "cell_type": "code",
   "execution_count": null,
   "metadata": {},
   "outputs": [],
   "source": [
    "import pandas as pd\n",
    "import matplotlib.pyplot as plt\n",
    "\n",
    "# Load the data\n",
    "df = pd.read_csv(\"data/sales_data.csv\")\n",
    "\n",
    "# Clean the data\n",
    "df = df.dropna()\n",
    "df[\"date\"] = pd.to_datetime(df[\"date\"])\n",
    "\n",
    "# Compute total sales per month\n",
    "df[\"month\"] = df[\"date\"].dt.to_period(\"M\")\n",
    "monthly_sales = df.groupby(\"month\")[\"sales\"].sum()\n",
    "\n",
    "# Plot the results\n",
    "plt.figure(figsize=(10, 5))\n",
    "monthly_sales.plot(kind=\"bar\")\n",
    "plt.title(\"Total Monthly Sales\")\n",
    "plt.xlabel(\"Month\")\n",
    "plt.ylabel(\"Sales\")\n",
    "plt.tight_layout()\n",
    "plt.savefig(\"monthly_sales.png\")\n",
    "plt.show()"
   ]
  },
  {
   "cell_type": "markdown",
   "metadata": {},
   "source": [
    "This script performs the following tasks:\n",
    "\n",
    "- Loads a CSV file.\n",
    "- Cleans the data.\n",
    "- Computes summary statistics.\n",
    "- Plots the results.\n",
    "\n",
    "However, the script is entirely procedural: it lacks functions, classes, and separation of concerns."
   ]
  },
  {
   "cell_type": "code",
   "execution_count": null,
   "metadata": {},
   "outputs": [],
   "source": [
    "# The refactored program goes here"
   ]
  },
  {
   "cell_type": "markdown",
   "metadata": {},
   "source": [
    "## 7.4 Semantic Refactoring: Dependency Injection\n",
    "\n",
    "Dependency Injection is a design pattern that allows a class to receive its dependencies from an external source rather than creating them internally. This promotes loose coupling and makes the code more testable and maintainable. You can read more about dependency injection in Python in the [Python documentation](https://docs.python.org/3/glossary.html#term-dependency-injection).\n",
    "\n",
    "We’ll refactor the SalesAnalyzer class to:\n",
    "- Inject dependencies like the data loader and plotting function.\n",
    "- Allow for flexible testing, extension, or customization — e.g., switching between CSV, database, or mocked data.\n",
    "\n",
    "This is beyond what IDEs do, and it’s something an LLM can generate from a natural-language prompt like:\n",
    "\n",
    "“Refactor this class to use dependency injection for the data loading and plotting steps.”"
   ]
  },
  {
   "cell_type": "code",
   "execution_count": null,
   "metadata": {},
   "outputs": [],
   "source": [
    "# Refactored code with dependency injection goes here"
   ]
  }
 ],
 "metadata": {
  "colab": {
   "provenance": []
  },
  "kernelspec": {
   "display_name": "Python 3",
   "language": "python",
   "name": "python3"
  },
  "language_info": {
   "codemirror_mode": {
    "name": "ipython",
    "version": 3
   },
   "file_extension": ".py",
   "mimetype": "text/x-python",
   "name": "python",
   "nbconvert_exporter": "python",
   "pygments_lexer": "ipython3",
   "version": "3.8.18"
  }
 },
 "nbformat": 4,
 "nbformat_minor": 0
}
