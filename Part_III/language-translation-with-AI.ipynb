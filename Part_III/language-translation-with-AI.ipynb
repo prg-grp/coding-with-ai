{
 "cells": [
  {
   "cell_type": "markdown",
   "metadata": {},
   "source": [
    "# 6 Language translation with AI\n",
    "\n",
    "AI can be used to translate a program written in a programming langauge to a possibly equivalent program in a different programming langauge. The problem is as old as complex because it has to do with program equivalence: the following is a research meeting that focuses on this issuse in 2018 - [AI-Assisted Syntax Error Debugging in Code](https://drops.dagstuhl.de/storage/04dagstuhl-reports/volume08/issue04/18151/DagRep.8.4.1/DagRep.8.4.1.pdf).\n"
   ]
  },
  {
   "cell_type": "markdown",
   "metadata": {},
   "source": [
    "## 6.1 Task: Program Translation (basic)\n",
    "\n",
    "Use the AI to translate the following code snippet from R to Python. Check that the translated program is really equivalent to the original one.\n"
   ]
  },
  {
   "cell_type": "code",
   "execution_count": null,
   "metadata": {
    "vscode": {
     "languageId": "r"
    }
   },
   "outputs": [],
   "source": [
    "# Simple R program to calculate the factorial of a number\n",
    "\n",
    "# Define the number\n",
    "number <- 5\n",
    "\n",
    "# Initialize the factorial result to 1\n",
    "factorial_result <- 1\n",
    "\n",
    "# Loop to calculate the factorial\n",
    "for(i in 1:number) {\n",
    "  factorial_result <- factorial_result * i\n",
    "}\n",
    "\n",
    "# Print the result\n",
    "cat(\"The factorial of\", number, \"is:\", factorial_result, \"\\n\")"
   ]
  },
  {
   "cell_type": "code",
   "execution_count": null,
   "metadata": {
    "vscode": {
     "languageId": "r"
    }
   },
   "outputs": [],
   "source": [
    "# Translation into Python goes here:"
   ]
  },
  {
   "cell_type": "markdown",
   "metadata": {},
   "source": [
    "## 6.2 Task: Program Translation (intermediate)\n",
    "\n",
    "Different programming languages not only use different syntax, but also have features that are simply not available in other languages, complicating the translation problem. For example, R, which is a language for statistics, has a special value, NA, denoting a missing value. This reflecting the fact that in statistic is is common to deal with missing data point and the language supports the user in this aspect.\n",
    "\n",
    "An important element is this code snippe is the na.rm argument which instructs R to excludes NA values from the calculation and run the program only on available data points.\n"
   ]
  },
  {
   "cell_type": "code",
   "execution_count": 2,
   "metadata": {
    "vscode": {
     "languageId": "r"
    }
   },
   "outputs": [
    {
     "name": "stdout",
     "output_type": "stream",
     "text": [
      "[1] 7.6\n"
     ]
    }
   ],
   "source": [
    "# This is R code\n",
    "\n",
    "# Creating a numeric vector\n",
    "values <- c(4, 7, 1, 16, NA, 10)\n",
    "\n",
    "# Calculating the mean while ignoring NA values\n",
    "average <- mean(values, na.rm = TRUE)\n",
    "print(average)"
   ]
  },
  {
   "cell_type": "markdown",
   "metadata": {},
   "source": [
    "## 6.3 Task: Program Translation (advanced)\n",
    "\n",
    "Translate the following program to Python using the AI. In checking the result, pay particular attention to the translation\n",
    "1 - Constructs that belong to the R syntax (e.g., the <- operator)\n",
    "2 - Calls to libraries that are likely to be different between Python and R\n",
    "\n",
    "The program simulates a simple data analysis task without using external libraries. It generates synthetic data, computes descriptive statistics, performs a linear regression, and generates a plot.\n"
   ]
  },
  {
   "cell_type": "code",
   "execution_count": null,
   "metadata": {
    "vscode": {
     "languageId": "r"
    }
   },
   "outputs": [],
   "source": [
    "# Comprehensive R program: Data Simulation, Descriptive Stats, Linear Regression, and Plotting\n",
    "\n",
    "# 1. Generate synthetic data\n",
    "set.seed(123) # For reproducibility\n",
    "\n",
    "# Generate 100 random values for x (independent variable)\n",
    "x <- runif(100, min = 1, max = 100)\n",
    "\n",
    "# Generate y (dependent variable) with a linear relationship with x, adding some noise\n",
    "y <- 2.5 * x + rnorm(100, mean = 0, sd = 10)\n",
    "\n",
    "# Create a data frame from the synthetic data\n",
    "data <- data.frame(x, y)\n",
    "\n",
    "# 2. Descriptive statistics\n",
    "cat(\"Summary of the independent variable (x):\\n\")\n",
    "cat(\"Min:\", min(x), \"\\n\")\n",
    "cat(\"Max:\", max(x), \"\\n\")\n",
    "cat(\"Mean:\", mean(x), \"\\n\")\n",
    "cat(\"Median:\", median(x), \"\\n\")\n",
    "cat(\"Standard Deviation:\", sd(x), \"\\n\\n\")\n",
    "\n",
    "cat(\"Summary of the dependent variable (y):\\n\")\n",
    "cat(\"Min:\", min(y), \"\\n\")\n",
    "cat(\"Max:\", max(y), \"\\n\")\n",
    "cat(\"Mean:\", mean(y), \"\\n\")\n",
    "cat(\"Median:\", median(y), \"\\n\")\n",
    "cat(\"Standard Deviation:\", sd(y), \"\\n\\n\")\n",
    "\n",
    "# 3. Linear Regression\n",
    "cat(\"Performing linear regression...\\n\")\n",
    "linear_model <- lm(y ~ x, data = data)\n",
    "\n",
    "# Output the summary of the linear model\n",
    "cat(\"Summary of the linear model:\\n\")\n",
    "print(summary(linear_model))\n",
    "\n",
    "# 4. Plotting\n",
    "cat(\"Generating a plot...\\n\")\n",
    "\n",
    "# Scatter plot of x vs. y\n",
    "plot(x, y, main = \"Linear Regression Plot\", xlab = \"Independent Variable (x)\", ylab = \"Dependent Variable (y)\", pch = 19)\n",
    "\n",
    "# Add the regression line to the plot\n",
    "abline(linear_model, col = \"blue\", lwd = 2)\n",
    "\n",
    "# 5. Residual Analysis\n",
    "residuals <- residuals(linear_model)\n",
    "\n",
    "cat(\"Performing residual analysis...\\n\")\n",
    "cat(\"Summary of residuals:\\n\")\n",
    "print(summary(residuals))\n",
    "\n",
    "# 6. Plot residuals\n",
    "cat(\"Generating residuals plot...\\n\")\n",
    "plot(x, residuals, main = \"Residuals Plot\", xlab = \"Independent Variable (x)\", ylab = \"Residuals\", pch = 19, col = \"red\")\n",
    "abline(h = 0, col = \"black\", lwd = 2)\n",
    "\n",
    "# End of program\n",
    "cat(\"Program completed.\\n\")"
   ]
  },
  {
   "cell_type": "code",
   "execution_count": null,
   "metadata": {
    "vscode": {
     "languageId": "r"
    }
   },
   "outputs": [],
   "source": [
    "# Translation into Python goes here:"
   ]
  }
 ],
 "metadata": {
  "colab": {
   "provenance": []
  },
  "kernelspec": {
   "display_name": "R",
   "language": "R",
   "name": "ir"
  },
  "language_info": {
   "codemirror_mode": "r",
   "file_extension": ".r",
   "mimetype": "text/x-r-source",
   "name": "R",
   "pygments_lexer": "r",
   "version": "4.4.1"
  }
 },
 "nbformat": 4,
 "nbformat_minor": 0
}
