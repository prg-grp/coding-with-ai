{
 "cells": [
  {
   "cell_type": "markdown",
   "metadata": {
    "id": "tIZ_O4dCyD1D"
   },
   "source": [
    "# 3 Explaining Code with AI\n",
    "\n",
    "AI can be used to explain a program helping beginners understand basic program functionalities and speeding up advanced programmers in code comprehension during maintenance tasks (https://en.wikipedia.org/wiki/Software_maintenance#Change_cycle).\n"
   ]
  },
  {
   "cell_type": "markdown",
   "metadata": {
    "id": "tRjvv-ffmXqU"
   },
   "source": [
    "## 3.1 Task: Code Explanations\n",
    "\n",
    "Consider the exercises 1-5 here:\n",
    "https://sback.github.io/shsg-summerschool-2024/day-1/variables\n",
    "\n",
    "- Compare the solution that you provide with the one provided by the AI.\n",
    "\n",
    "- How does the prompt influence the size and the complexity of the explanation? For example, you can ask an explanation for an absolute beginner or you can ask an explanation for an experienced software engineer.\n"
   ]
  },
  {
   "cell_type": "markdown",
   "metadata": {
    "id": "Wrw8YbqdOpU0"
   },
   "source": [
    "## 3.2 Task: Improving Code Quality\n",
    "\n",
    "The following code snippet is an example of bad programming practice. The variables used in the code do not have meaningful names and there are no comments.\n",
    "\n",
    "- Use AI to understand what this code is doing.\n",
    "\n",
    "- Next, based on the explanation above, use AI to give the variables a more meaningful name and add comments that help other programmers understand the code.\n"
   ]
  },
  {
   "cell_type": "code",
   "execution_count": null,
   "metadata": {
    "id": "yozWaz_2JDk3",
    "vscode": {
     "languageId": "r"
    }
   },
   "outputs": [],
   "source": [
    "x = 29\n",
    "\n",
    "y = True\n",
    "\n",
    "if x > 1:\n",
    "    for z in range(2, int(x ** 0.5) + 1):\n",
    "        if x % z == 0:\n",
    "            y = False\n",
    "else:\n",
    "    y = False\n",
    "\n",
    "if y:\n",
    "    print(f\"{x}: it is!\")\n",
    "else:\n",
    "    print(f\"{x}: no, it isn\\'t\")"
   ]
  },
  {
   "cell_type": "markdown",
   "metadata": {
    "id": "KPCXkO8APPeJ"
   },
   "source": [
    "\n"
   ]
  },
  {
   "cell_type": "code",
   "execution_count": null,
   "metadata": {
    "id": "OnuG_N9FPf8s",
    "vscode": {
     "languageId": "r"
    }
   },
   "outputs": [],
   "source": [
    "# Cleaned up version of the code here"
   ]
  },
  {
   "cell_type": "markdown",
   "metadata": {
    "id": "Oeu9is5R5iFN"
   },
   "source": [
    "## 3.3 Task: Deciphering Code with AI\n",
    "\n",
    "Use the AI to understand the following code. This program uses boolean values in an arithmetic operation, which might be confusing because booleans are typically not used in this way.\n",
    "Warning: this is not a good programming style!\n"
   ]
  },
  {
   "cell_type": "code",
   "execution_count": null,
   "metadata": {
    "id": "lG4qiYKZ5mYQ",
    "vscode": {
     "languageId": "r"
    }
   },
   "outputs": [],
   "source": [
    "x = True\n",
    "y = False\n",
    "z = x - y\n",
    "\n",
    "print(z)"
   ]
  },
  {
   "cell_type": "markdown",
   "metadata": {
    "id": "quVH_FUb6JOn"
   },
   "source": [
    "## 3.4 Task: Refactoring Code with AI\n",
    "\n",
    "This program uses chained assignment and chained comparison, both of which can be tricky to grasp at first. Warning: this is not a good programming style!\n",
    "\n",
    "- Use the AI to understand the following code.\n",
    "\n",
    "- Working with the AI, translate it to a version that is immediately comprehensible.\n"
   ]
  },
  {
   "cell_type": "code",
   "execution_count": null,
   "metadata": {
    "id": "yACIEikX6VG0",
    "vscode": {
     "languageId": "r"
    }
   },
   "outputs": [],
   "source": [
    "a = b = c = 5\n",
    "\n",
    "if a == b == c:\n",
    "    print(\"All variables are equal.\")\n",
    "\n",
    "a = 6\n",
    "\n",
    "if a < b < c:\n",
    "    print(\"a is less than b and b is less than c.\")\n",
    "else:\n",
    "    print(\"The chain of comparisons is not true.\")"
   ]
  }
 ],
 "metadata": {
  "colab": {
   "provenance": []
  },
  "kernelspec": {
   "display_name": "R",
   "language": "R",
   "name": "ir"
  },
  "language_info": {
   "codemirror_mode": "r",
   "file_extension": ".r",
   "mimetype": "text/x-r-source",
   "name": "R",
   "pygments_lexer": "r",
   "version": "4.4.1"
  }
 },
 "nbformat": 4,
 "nbformat_minor": 0
}
