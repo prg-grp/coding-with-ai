{
 "cells": [
  {
   "cell_type": "markdown",
   "metadata": {
    "id": "SKeRnxSqxwvs"
   },
   "source": [
    "# 5 Bug Fixing and Code Reviews (Semantic Errors)\n",
    "\n",
    "Finding bugs and potential issues (e.g., security vulnerabilities) in a program is important in several stages of software development.\n",
    "\n",
    "During development, programmers may need to remove the bugs that they spot in their code. This activity is often called debugging.\n",
    "\n",
    "In many organzations, when a programmer writes some code, the code is not integrated in production before a fellow programmer checks that it does not contain any issue. This process is referred to as code review and it is adopted by many software companies.\n",
    "\n",
    "https://developers.google.com/blockly/guides/contribute/get-started/pr_review_process\n"
   ]
  },
  {
   "cell_type": "markdown",
   "metadata": {
    "id": "rufkf1qxmj94"
   },
   "source": [
    "## 5.1 Task: Finding Hidden Bugs\n",
    "\n",
    "AI can help identify a bug in program code. Note that the code does not generate an error when executed and the result is correct. If you want to see an execution with a wrong result, change this line:\n",
    "\n",
    "`numbers = [3, 5, 2, 8, 1]`\n",
    "\n",
    "to, e.g., this line:\n",
    "\n",
    "`numbers = [10, 5, 2, 8, 1]`\n",
    "\n",
    "- Use AI to find the issue in this code without running it.\n",
    "\n",
    "- Using the AI, generate a correct version of the program.\n",
    "\n",
    "- Ask the AI to explain the bug.\n"
   ]
  },
  {
   "cell_type": "code",
   "execution_count": null,
   "metadata": {
    "colab": {
     "base_uri": "https://localhost:8080/"
    },
    "id": "h-XGNhFGm4pb",
    "outputId": "1c42153d-ced3-48e2-9c11-9f867dfc7f1e",
    "vscode": {
     "languageId": "r"
    }
   },
   "outputs": [
    {
     "name": "stdout",
     "output_type": "stream",
     "text": [
      "The maximum number is: 8\n"
     ]
    }
   ],
   "source": [
    "def find_max_in_list(numbers):\n",
    "    # Initialize the maximum value with the first element\n",
    "    max_value = numbers[0]\n",
    "\n",
    "    # Iterate through the list to find the maximum value\n",
    "    for i in range(1, len(numbers)):  # Bug: This loop should run from index 0, not 1\n",
    "        if numbers[i] > max_value:\n",
    "            max_value = numbers[i]\n",
    "\n",
    "    return max_value\n",
    "\n",
    "# Example usage\n",
    "numbers = [3, 5, 2, 8, 1]\n",
    "max_number = find_max_in_list(numbers)\n",
    "print(f\"The maximum number is: {max_number}\")"
   ]
  },
  {
   "cell_type": "code",
   "execution_count": null,
   "metadata": {
    "id": "oeNiu75VstWX",
    "vscode": {
     "languageId": "r"
    }
   },
   "outputs": [],
   "source": [
    "# COMPLETE: Correct version of the code"
   ]
  },
  {
   "cell_type": "markdown",
   "metadata": {
    "id": "nT5Bilj8sw8p"
   },
   "source": [
    "Explanation of the bug:\n"
   ]
  },
  {
   "cell_type": "markdown",
   "metadata": {
    "id": "NUTpI4P3s-VP"
   },
   "source": [
    "## 5.2 Task: Debugging with AI\n",
    "\n",
    "The following program contains a bug and fails with an error.\n",
    "\n",
    "- Provide only the error message to the AI and find the bug using the explanation given by the AI\n",
    "\n",
    "- Provide the AI with both the program and the error message and check if the explanation improves\n"
   ]
  },
  {
   "cell_type": "code",
   "execution_count": null,
   "metadata": {
    "id": "ZLGaf1kstWuE",
    "vscode": {
     "languageId": "r"
    }
   },
   "outputs": [],
   "source": [
    "def calculate_average(numbers):\n",
    "    # Attempt to calculate the average of a list of numbers\n",
    "    total = sum(numbers)\n",
    "    count = len(numbers)\n",
    "\n",
    "    # Bug: Division by zero error if the list is empty\n",
    "    average = total / count\n",
    "\n",
    "    return average\n",
    "\n",
    "# Example usage\n",
    "numbers = []\n",
    "average = calculate_average(numbers)\n",
    "print(f\"The average is: {average}\")"
   ]
  },
  {
   "cell_type": "markdown",
   "metadata": {
    "id": "iiIioJfdteaE"
   },
   "source": [
    "Error explanation:\n"
   ]
  },
  {
   "cell_type": "code",
   "execution_count": null,
   "metadata": {
    "id": "VmYho0ikti2E",
    "vscode": {
     "languageId": "r"
    }
   },
   "outputs": [],
   "source": [
    "# COMPLETE: correct version of the program"
   ]
  }
 ],
 "metadata": {
  "colab": {
   "provenance": []
  },
  "kernelspec": {
   "display_name": "R",
   "language": "R",
   "name": "ir"
  },
  "language_info": {
   "codemirror_mode": "r",
   "file_extension": ".r",
   "mimetype": "text/x-r-source",
   "name": "R",
   "pygments_lexer": "r",
   "version": "4.4.1"
  }
 },
 "nbformat": 4,
 "nbformat_minor": 0
}
