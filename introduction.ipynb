{
 "cells": [
  {
   "cell_type": "markdown",
   "metadata": {},
   "source": [
    "# 1 Introduction\n",
    "\n",
    "Artificial Intelligence is no longer a distant promise of the future—it’s here, embedded in the tools we use every day, including the ones we use to write code. This book is a practical guide to exploring the evolving intersection of coding and AI. Rather than teaching AI itself, it focuses on how to code more effectively with AI as a partner.\n",
    "\n",
    "Whether you’re a student, a self-taught programmer, or a professional looking to sharpen your skills, this book offers a structured journey through exercises that reflect real-world scenarios. From fixing syntax errors to building software projects with graphical interfaces, the chapters are designed to help you develop a deeper understanding of both programming and how to collaborate with AI-based tools.\n",
    "\n",
    "The book is divided into three parts:\n",
    "\n",
    "* Part I: Basic Coding with AI introduces foundational practices such as writing algorithms, commenting code, and understanding language translation—all with AI-assisted workflows.\n",
    "\n",
    "* Part II: Software Construction with AI shifts focus to more complex software engineering tasks like refactoring, working with data structures, and automated testing.\n",
    "\n",
    "* Part III: Software Projects with AI challenges you to put your skills into practice through hands-on development of APIs and graphical interfaces, leveraging AI throughout.\n",
    "\n",
    "You’ll be encouraged to interact with AI tools—not just as passive assistants but as collaborators that can enhance creativity, efficiency, and critical thinking.\n",
    "\n",
    "Let’s dive in and explore what it means to code with AI—not instead of you, but alongside you.\n",
    "\n",
    "## 1.1 How to Use This Material\n",
    "\n",
    "This book is designed as a collection of standalone exercises—each chapter focuses on a specific topic and can be read independently of the others. You can dip in wherever your interests or needs take you.\n",
    "\n",
    "The only prerequisite is a basic understanding of programming concepts. You don’t need to be an expert; the exercises are meant to be approachable and practical, even if you’re still early in your coding journey.\n",
    "\n",
    "The content is intentionally agnostic to specific AI tools. Whether you’re using ChatGPT, GitHub Copilot, or another assistant, the key idea is to explore how AI can support you in writing, understanding, and improving code. That said, using an AI tool that integrates well with your coding environment—especially one that works inside Jupyter notebooks—can make the experience smoother and more interactive.\n",
    "\n",
    "Feel free to experiment, adapt, and build on what’s here. This is a hands-on guide, and the best way to learn is by doing.\n",
    "\n",
    "## 1.2 Acknowledgments\n",
    "\n",
    "Thanks to Alberto Bacchelli for the fruitful discussions during the development of the material for the Python coding bootcamp at the University of St. Gallen.\n",
    "To Paul-Philipp Luley, for helping structure the material and make it more systematic.\n",
    "And to Jahrim Cesario, for contributing some of the content included in this book.\n"
   ]
  }
 ],
 "metadata": {
  "colab": {
   "provenance": []
  },
  "kernelspec": {
   "display_name": "R",
   "language": "R",
   "name": "ir"
  },
  "language_info": {
   "codemirror_mode": "r",
   "file_extension": ".r",
   "mimetype": "text/x-r-source",
   "name": "R",
   "pygments_lexer": "r",
   "version": "4.4.1"
  }
 },
 "nbformat": 4,
 "nbformat_minor": 0
}
