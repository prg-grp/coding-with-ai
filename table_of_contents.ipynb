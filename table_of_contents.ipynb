{
 "cells": [
  {
   "cell_type": "markdown",
   "metadata": {},
   "source": [
    "# Table of Contents\n",
    "\n",
    "## Basic coding with AI\n",
    "\n",
    "[1 Fixing Syntax Errors with AI](basic-coding-with-AI/fixing-syntax-errors-with-AI.ipynb)\n",
    "\n",
    "[2 Writing Algorithms with AI](basic-coding-with-AI/writing-algorithms-with-AI.ipynb)\n",
    "\n",
    "[3 Explaining Code with AI](basic-coding-with-AI/explaining-code-with-AI.ipynb)\n",
    "\n",
    "[4 Commenting Code with AI](basic-coding-with-AI/commenting-code-with-AI.ipynb)\n",
    "\n",
    "[5 Bug Fixing and Code Reviews (Semantic Errors)](basic-coding-with-AI/bug-fixing-and-code-reviews.ipynb)\n",
    "\n",
    "[6 Language translation with AI](basic-coding-with-AI/language-translation-with-AI.ipynb)\n",
    "\n",
    "[7 Refactoring](basic-coding-with-AI/refactoring.ipynb)\n",
    "\n",
    "\n",
    "\n",
    "[APIs with AI tools](./sw-projects-with-AI/AI-sw-prj_api.ipynb)\n",
    "\n",
    "[Working with GUIs and AI](./sw-projects-with-AI/AI-sw-prj_guis.ipynb)\n",
    "\n",
    "[Modularization using AI tools](./sw-projects-with-AI/AI-sw-prj_modularization.ipynb)\n",
    "\n",
    "[Testing with AI](./sw-projects-with-AI/AI-sw-prj_testing.ipynb)\n"
   ]
  },
  {
   "cell_type": "markdown",
   "metadata": {},
   "source": []
  }
 ],
 "metadata": {
  "language_info": {
   "name": "python"
  }
 },
 "nbformat": 4,
 "nbformat_minor": 2
}
