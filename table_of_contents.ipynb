{
 "cells": [
  {
   "cell_type": "markdown",
   "metadata": {},
   "source": [
    "# Table of Contents\n",
    "\n",
    "## Software Construction with AI\n",
    "\n",
    "[APIs with AI tools](./sw-projects-with-AI/AI-sw-prj_api.ipynb)\n",
    "\n",
    "[Working with GUIs and AI](./sw-projects-with-AI/AI-sw-prj_guis.ipynb)\n",
    "\n",
    "[Modularization using AI tools](./sw-projects-with-AI/AI-sw-prj_modularization.ipynb)\n",
    "\n",
    "[Testing with AI](./sw-projects-with-AI/AI-sw-prj_testing.ipynb)\n"
   ]
  }
 ],
 "metadata": {
  "language_info": {
   "name": "python"
  }
 },
 "nbformat": 4,
 "nbformat_minor": 2
}
