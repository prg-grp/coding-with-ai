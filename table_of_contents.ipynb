{
 "cells": [
  {
   "cell_type": "markdown",
   "metadata": {},
   "source": [
    "# Table of Contents\n",
    "\n",
    "[0 Introduction](00_introduction.ipynb)\n",
    "\n",
    "\n",
    "## Part I: Basic Coding with AI\n",
    "\n",
    "[1 Fixing Syntax Errors](basic-coding-with-AI/01_fixing-syntax-errors-with-AI.ipynb)\n",
    "\n",
    "[2 Writing Algorithms](basic-coding-with-AI/02_writing-algorithms-with-AI.ipynb)\n",
    "\n",
    "[3 Explaining Code](basic-coding-with-AI/03_explaining-code-with-AI.ipynb)\n",
    "\n",
    "[4 Commenting Code](basic-coding-with-AI/04_commenting-code-with-AI.ipynb)\n",
    "\n",
    "[5 Bug Fixing and Code Reviews - Semantic Errors](basic-coding-with-AI/05_bug-fixing-and-code-reviews.ipynb)\n",
    "\n",
    "\n",
    "## Part II: Software Construction with AI\n",
    "\n",
    "[7 Refactoring](basic-coding-with-AI/07_refactoring.ipynb)\n",
    "\n",
    "[11 Data Structures](software-projects-with-AI/11_AI-sw-data-structures.ipynb)\n",
    "\n",
    "[12 Software Testing](software-projects-with-AI/12_AI-sw-prj_testing.ipynb)\n",
    "\n",
    "\n",
    "## Part III: Software Projects with AI\n",
    "\n",
    "[8 API - Application Programming Interface](software-projects-with-AI/08_AI-sw-prj_api.ipynb)\n",
    "\n",
    "[9 Graphical Interfaces](software-projects-with-AI/09_AI-sw-prj_guis.ipynb)\n",
    "\n",
    "[10 Modularization in Software Design](software-projects-with-AI/10_AI-sw-prj_modularization.ipynb)\n",
    "\n",
    "[6 Language translation](basic-coding-with-AI/06_language-translation-with-AI.ipynb)\n",
    "\n",
    "\n",
    "[100 Conclusion](100_conclusion.ipynb)\n",
    "\n"
   ]
  }
 ],
 "metadata": {
  "language_info": {
   "name": "python"
  }
 },
 "nbformat": 4,
 "nbformat_minor": 2
}
